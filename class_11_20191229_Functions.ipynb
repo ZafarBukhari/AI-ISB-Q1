{
 "cells": [
  {
   "cell_type": "markdown",
   "metadata": {},
   "source": [
    "# Topics\n",
    "\n",
    "Functions: (Set of instructions)\n",
    " -  There are two types of functions:\n",
    "        1) Pre-Defined Functions\n",
    "        2) User Defined Functions\n",
    "        3) Recursive Functions\n",
    "        4) Generator Functions\n",
    "        5) Lambda Functions (Single line one-time use function)\n",
    "\n",
    "\n",
    "\n",
    "Types of Arguements:\n",
    "-  following are types of arguments:\n",
    "        1) Reqiured Arguements\n",
    "        2) Optionsal Arguments\n",
    "        3) Return   - whose value can be assigned to a variable\n",
    "        4) Non Return  - whose value cannot be assigned to a variable like print()\n",
    "        5) Default Arguements\n",
    "        6) Positional Arguements\n",
    "        7) Keyword Arguements\n",
    "        8) Arguements with List\n",
    "        9) Arguements with Dictionary\n",
    "\n",
    "-  Loops:\n",
    "        1) For\n",
    "        2) While\n",
    "        3) Do While\n",
    "\n",
    "-  Input:"
   ]
  },
  {
   "cell_type": "markdown",
   "metadata": {},
   "source": [
    "### Pre Defined Functions"
   ]
  },
  {
   "cell_type": "code",
   "execution_count": 134,
   "metadata": {},
   "outputs": [
    {
     "name": "stdout",
     "output_type": "stream",
     "text": [
      "abc\n",
      "18\n",
      "<class 'int'>\n",
      "2386754044064\n"
     ]
    }
   ],
   "source": [
    "print(\"abc\")\n",
    "print(len(\"dfsdjkfasdkfsdkfjk\"))\n",
    "print(type(123))\n",
    "print(id(\"99\"))"
   ]
  },
  {
   "cell_type": "markdown",
   "metadata": {},
   "source": [
    "### User Defined Functions"
   ]
  },
  {
   "cell_type": "code",
   "execution_count": 135,
   "metadata": {},
   "outputs": [
    {
     "name": "stdout",
     "output_type": "stream",
     "text": [
      "Pakistan Zindabad\n",
      "We are Pakistani\n",
      "We love our country\n"
     ]
    }
   ],
   "source": [
    "print(\"Pakistan Zindabad\")\n",
    "print(\"We are Pakistani\")\n",
    "print(\"We love our country\")"
   ]
  },
  {
   "cell_type": "code",
   "execution_count": 136,
   "metadata": {},
   "outputs": [],
   "source": [
    "# function defining\n",
    "\n",
    "def abc():\n",
    "    print(\"Pakistan Zindabad\")   # by-default four spaces are required for indenting a block of code / line\n",
    "    print(\"We are Pakistani\")\n",
    "    print(\"We love our country\\n\")"
   ]
  },
  {
   "cell_type": "code",
   "execution_count": 137,
   "metadata": {},
   "outputs": [
    {
     "name": "stdout",
     "output_type": "stream",
     "text": [
      "Pakistan Zindabad\n",
      "We are Pakistani\n",
      "We love our country\n",
      "\n"
     ]
    }
   ],
   "source": [
    "# calling a function\n",
    "\n",
    "abc()"
   ]
  },
  {
   "cell_type": "code",
   "execution_count": 138,
   "metadata": {},
   "outputs": [
    {
     "name": "stdout",
     "output_type": "stream",
     "text": [
      "Pakistan Zindabad\n",
      "We are Pakistani\n",
      "We love our country\n",
      "\n",
      "aaa\n",
      "bbb\n",
      "Pakistan Zindabad\n",
      "We are Pakistani\n",
      "We love our country\n",
      "\n"
     ]
    }
   ],
   "source": [
    "abc()\n",
    "print(\"aaa\")\n",
    "print(\"bbb\")\n",
    "abc()"
   ]
  },
  {
   "cell_type": "markdown",
   "metadata": {},
   "source": [
    "### Reqiured Arguements"
   ]
  },
  {
   "cell_type": "code",
   "execution_count": 139,
   "metadata": {},
   "outputs": [
    {
     "name": "stdout",
     "output_type": "stream",
     "text": [
      "    \n",
      "    PIAIC Islamabad\n",
      "    id: PIAIC68537\n",
      "    Name: Ali\n",
      "    Father's Name: Hamza\n",
      "    Course: AI\n",
      "    Timing: 9 AM ~ 12 Noon\n",
      "    \n"
     ]
    }
   ],
   "source": [
    "# Perametarized Function with required arguements\n",
    "\n",
    "def id_card(sid, sname, fname, course, timing):\n",
    "    text = \"\"\"    \n",
    "    PIAIC Islamabad\n",
    "    id: {}\n",
    "    Name: {}\n",
    "    Father's Name: {}\n",
    "    Course: {}\n",
    "    Timing: {}\n",
    "    \"\"\".format(sid, sname, fname, course, timing)\n",
    "    print(text)\n",
    "\n",
    "id_card(\"PIAIC68537\", \"Ali\", \"Hamza\", \"AI\", \"9 AM ~ 12 Noon\")\n",
    "    "
   ]
  },
  {
   "cell_type": "code",
   "execution_count": 140,
   "metadata": {},
   "outputs": [
    {
     "name": "stdout",
     "output_type": "stream",
     "text": [
      "    \n",
      "    PIAIC Islamabad\n",
      "    id: 1\n",
      "    Name: PIAIC68537\n",
      "    Father's Name: Ali\n",
      "    Course: Hamza\n",
      "    Timing: AI\n",
      "    \n",
      "    \n",
      "    PIAIC Islamabad\n",
      "    id: 2\n",
      "    Name: PIAIC68540\n",
      "    Father's Name: Ahmed\n",
      "    Course: Nasir\n",
      "    Timing: CNC\n",
      "    \n",
      "    \n",
      "    PIAIC Islamabad\n",
      "    id: 3\n",
      "    Name: PIAIC69590\n",
      "    Father's Name: Nasir\n",
      "    Course: Bakhat Taj\n",
      "    Timing: BCC\n",
      "    \n"
     ]
    }
   ],
   "source": [
    "data=[[1, \"PIAIC68537\", \"Ali\", \"Hamza\", \"AI\", \"9 AM ~ 12 Noon\"],\n",
    "      [2, \"PIAIC68540\", \"Ahmed\", \"Nasir\", \"CNC\", \"3 PM ~ 6 PM\"],\n",
    "      [3, \"PIAIC69590\", \"Nasir\", \"Bakhat Taj\", \"BCC\", \"6 PM ~ 9 PM\"]]\n",
    "\n",
    "for v in data:\n",
    "    id_card(v[0], v[1], v[2], v[3], v[4])"
   ]
  },
  {
   "cell_type": "code",
   "execution_count": 141,
   "metadata": {},
   "outputs": [
    {
     "name": "stdout",
     "output_type": "stream",
     "text": [
      "    \n",
      "    PIAIC Islamabad\n",
      "    id: PIAIC68537\n",
      "    Name: Ali\n",
      "    Father's Name: Hamza\n",
      "    Course: AI\n",
      "    Timing: 9 AM ~ 12 Noon\n",
      "    \n",
      "    \n",
      "    PIAIC Islamabad\n",
      "    id: PIAIC68540\n",
      "    Name: Ahmed\n",
      "    Father's Name: Nasir\n",
      "    Course: CNC\n",
      "    Timing: 3 PM ~ 6 PM\n",
      "    \n",
      "    \n",
      "    PIAIC Islamabad\n",
      "    id: PIAIC69590\n",
      "    Name: Nasir\n",
      "    Father's Name: Bakhat Taj\n",
      "    Course: BCC\n",
      "    Timing: 6 PM ~ 9 PM\n",
      "    \n"
     ]
    }
   ],
   "source": [
    "data=[[\"PIAIC68537\", \"Ali\", \"Hamza\", \"AI\", \"9 AM ~ 12 Noon\"],\n",
    "      [\"PIAIC68540\", \"Ahmed\", \"Nasir\", \"CNC\", \"3 PM ~ 6 PM\"],\n",
    "      [\"PIAIC69590\", \"Nasir\", \"Bakhat Taj\", \"BCC\", \"6 PM ~ 9 PM\"]]\n",
    "for v in data:\n",
    "#     id_card(v[0], v[1], v[2], v[3], v[4])\n",
    "      id_card(*v)"
   ]
  },
  {
   "cell_type": "markdown",
   "metadata": {},
   "source": [
    "### Optional Arguements"
   ]
  },
  {
   "cell_type": "code",
   "execution_count": 142,
   "metadata": {},
   "outputs": [
    {
     "name": "stdout",
     "output_type": "stream",
     "text": [
      "5 0 0\n",
      "5\n"
     ]
    }
   ],
   "source": [
    "# Optional arguments in parameter\n",
    "\n",
    "def abc(x, y=0, z=0):\n",
    "    print(x,y,z)\n",
    "    print(x+y+z)\n",
    "    \n",
    "abc(5)"
   ]
  },
  {
   "cell_type": "code",
   "execution_count": 143,
   "metadata": {},
   "outputs": [
    {
     "name": "stdout",
     "output_type": "stream",
     "text": [
      "5 7 0\n",
      "12\n"
     ]
    }
   ],
   "source": [
    "abc(5,7)"
   ]
  },
  {
   "cell_type": "code",
   "execution_count": 144,
   "metadata": {},
   "outputs": [
    {
     "name": "stdout",
     "output_type": "stream",
     "text": [
      "5 7 0\n",
      "12\n"
     ]
    }
   ],
   "source": [
    "abc(5,7,0)"
   ]
  },
  {
   "cell_type": "markdown",
   "metadata": {},
   "source": [
    "### Non Return Function"
   ]
  },
  {
   "cell_type": "code",
   "execution_count": 145,
   "metadata": {},
   "outputs": [],
   "source": [
    "#  a fuction which can not assign its value after execution to any variable\n",
    "\n",
    "# abc = print(\"Pakistan\")\n",
    "# print(abc)"
   ]
  },
  {
   "cell_type": "code",
   "execution_count": 146,
   "metadata": {},
   "outputs": [
    {
     "name": "stdout",
     "output_type": "stream",
     "text": [
      "5 0 0\n",
      "5\n",
      "None\n"
     ]
    }
   ],
   "source": [
    "x = abc(5)\n",
    "print(x)"
   ]
  },
  {
   "cell_type": "markdown",
   "metadata": {},
   "source": [
    "### Return Function"
   ]
  },
  {
   "cell_type": "code",
   "execution_count": 147,
   "metadata": {},
   "outputs": [
    {
     "name": "stdout",
     "output_type": "stream",
     "text": [
      "    \n",
      "    PIAIC Islamabad\n",
      "    id: PIAIC68537\n",
      "    Name: Ali\n",
      "    Father's Name: Hamza\n",
      "    Course: AI\n",
      "    Timing: 9 AM ~ 12 Noon\n",
      "    \n"
     ]
    }
   ],
   "source": [
    "# This is a return function with single return\n",
    "\n",
    "def id_card(sid, sname, fname, course, timing):\n",
    "    text = \"\"\"    \n",
    "    PIAIC Islamabad\n",
    "    id: {}\n",
    "    Name: {}\n",
    "    Father's Name: {}\n",
    "    Course: {}\n",
    "    Timing: {}\n",
    "    \"\"\".format(sid, sname, fname, course, timing)\n",
    "    return text\n",
    "#     print(text)\n",
    "\n",
    "print(id_card(\"PIAIC68537\", \"Ali\", \"Hamza\", \"AI\", \"9 AM ~ 12 Noon\"))\n",
    "    "
   ]
  },
  {
   "cell_type": "code",
   "execution_count": 148,
   "metadata": {},
   "outputs": [
    {
     "name": "stdout",
     "output_type": "stream",
     "text": [
      "    \n",
      "    PIAIC Islamabad\n",
      "    id: PIAIC68537\n",
      "    Name: Ali\n",
      "    Father's Name: Hamza\n",
      "    Course: AI\n",
      "    Timing: 9 AM ~ 12 Noon\n",
      "     Issued by: PIAIC Islamabad Administration\n"
     ]
    }
   ],
   "source": [
    "# This is a return function with multi-return statements\n",
    "\n",
    "def id_card(sid, sname, fname, course, timing):\n",
    "    text = \"\"\"    \n",
    "    PIAIC Islamabad\n",
    "    id: {}\n",
    "    Name: {}\n",
    "    Father's Name: {}\n",
    "    Course: {}\n",
    "    Timing: {}\n",
    "    \"\"\".format(sid, sname, fname, course, timing)\n",
    "    return text, \"Issued by: PIAIC Islamabad Administration\"\n",
    "#     print(text)\n",
    "\n",
    "print(*id_card(\"PIAIC68537\",\"Ali\",\"Hamza\",\"AI\",\"9 AM ~ 12 Noon\")) # * will return in tuple form\n",
    "    "
   ]
  },
  {
   "cell_type": "markdown",
   "metadata": {},
   "source": [
    "### KeyWord Arguements"
   ]
  },
  {
   "cell_type": "code",
   "execution_count": 149,
   "metadata": {},
   "outputs": [
    {
     "name": "stdout",
     "output_type": "stream",
     "text": [
      "    \n",
      "    PIAIC Islamabad\n",
      "    id: Qasim\n",
      "    Name: Aslam\n",
      "    Father's Name: 5007\n",
      "    Course: AI\n",
      "    Timing: 9 AM ~ 12 Noon\n",
      "    \n"
     ]
    }
   ],
   "source": [
    "def id_card(sid, sname, fname, course, timing):\n",
    "    text = \"\"\"    \n",
    "    PIAIC Islamabad\n",
    "    id: {}\n",
    "    Name: {}\n",
    "    Father's Name: {}\n",
    "    Course: {}\n",
    "    Timing: {}\n",
    "    \"\"\".format(sid, sname, fname, course, timing)\n",
    "    return text\n",
    "\n",
    "print(id_card(\"Qasim\",\"Aslam\",5007,\"AI\",\"9 AM ~ 12 Noon\"))"
   ]
  },
  {
   "cell_type": "code",
   "execution_count": 150,
   "metadata": {},
   "outputs": [
    {
     "name": "stdout",
     "output_type": "stream",
     "text": [
      "    \n",
      "    PIAIC Islamabad\n",
      "    id: 5006\n",
      "    Name: Qasim\n",
      "    Father's Name: Aslam\n",
      "    Course: AI\n",
      "    Timing: 9 AM ~ 12 Noon\n",
      "    \n"
     ]
    }
   ],
   "source": [
    "#  with keyWord arguements even with change in order\n",
    "print(id_card(sname=\"Qasim\", fname=\"Aslam\", sid=5006, course=\"AI\", timing=\"9 AM ~ 12 Noon\"))"
   ]
  },
  {
   "cell_type": "code",
   "execution_count": 151,
   "metadata": {},
   "outputs": [
    {
     "name": "stdout",
     "output_type": "stream",
     "text": [
      "    \n",
      "    PIAIC Islamabad\n",
      "    id: PIAIC-68537\n",
      "    Name: Qasim\n",
      "    Father's Name: Aslam\n",
      "    Course: AI\n",
      "    Timing: 9 AM ~ 12 Noon\n",
      "    \n"
     ]
    }
   ],
   "source": [
    "# Another example of keyWord Arguments\n",
    "#  with keyWord arguements even with change in order\n",
    "\n",
    "print(id_card(\"PIAIC-68537\", \"Qasim\", \"Aslam\", timing=\"9 AM ~ 12 Noon\", course=\"AI\"))"
   ]
  },
  {
   "cell_type": "markdown",
   "metadata": {},
   "source": [
    "### Arguments with List"
   ]
  },
  {
   "cell_type": "code",
   "execution_count": 152,
   "metadata": {},
   "outputs": [
    {
     "name": "stdout",
     "output_type": "stream",
     "text": [
      "    \n",
      "    PIAIC Islamabad\n",
      "    id: 1\n",
      "    Name: Qasim\n",
      "    Father's Name: Aslam\n",
      "    Course: AI\n",
      "    Timing: Morning\n",
      "    \n"
     ]
    }
   ],
   "source": [
    "# Passing information through list\n",
    "\n",
    "def id_card(sid, sname, fname, course, timing):\n",
    "    text = \"\"\"    \n",
    "    PIAIC Islamabad\n",
    "    id: {}\n",
    "    Name: {}\n",
    "    Father's Name: {}\n",
    "    Course: {}\n",
    "    Timing: {}\n",
    "    \"\"\".format(sid, sname, fname, course, timing)\n",
    "    return text\n",
    "\n",
    "l1 = [1,\"Qasim\",\"Aslam\",\"AI\",\"Morning\"]\n",
    "\n",
    "print(id_card(l1[0], l1[1], l1[2], l1[3], l1[4]))"
   ]
  },
  {
   "cell_type": "code",
   "execution_count": 153,
   "metadata": {},
   "outputs": [
    {
     "name": "stdout",
     "output_type": "stream",
     "text": [
      "    \n",
      "    PIAIC Islamabad\n",
      "    id: 1\n",
      "    Name: Qasim\n",
      "    Father's Name: Aslam\n",
      "    Course: AI\n",
      "    Timing: Morning\n",
      "    \n"
     ]
    }
   ],
   "source": [
    "# Passing information through list\n",
    "\n",
    "def id_card(sid, sname, fname, course, timing):\n",
    "    text = \"\"\"    \n",
    "    PIAIC Islamabad\n",
    "    id: {}\n",
    "    Name: {}\n",
    "    Father's Name: {}\n",
    "    Course: {}\n",
    "    Timing: {}\n",
    "    \"\"\".format(sid, sname, fname, course, timing)\n",
    "    return text\n",
    "\n",
    "l1 = [1,\"Qasim\",\"Aslam\",\"AI\",\"Morning\"]\n",
    "\n",
    "print(id_card(*l1))"
   ]
  },
  {
   "cell_type": "code",
   "execution_count": 154,
   "metadata": {},
   "outputs": [],
   "source": [
    "# Passing information through list\n",
    "\n",
    "def id_card(sid, sname, fname, course, timing):\n",
    "    text = \"\"\"    \n",
    "    PIAIC Islamabad\n",
    "    id: {}\n",
    "    Name: {}\n",
    "    Father's Name: {}\n",
    "    Course: {}\n",
    "    Timing: {}\n",
    "    \"\"\".format(sid, sname, fname, course, timing)\n",
    "    return text\n",
    "\n",
    "d1 = {\n",
    "    \"course\": \"AI\",\n",
    "    \"sname\": \"Qasim\",\n",
    "    \"fname\": \"Aslam\",\n",
    "    \"sid\": 5007,\n",
    "    \"timing\": \"Evening\"\n",
    "}"
   ]
  },
  {
   "cell_type": "code",
   "execution_count": 155,
   "metadata": {},
   "outputs": [
    {
     "data": {
      "text/plain": [
       "{'course': 'AI',\n",
       " 'sname': 'Qasim',\n",
       " 'fname': 'Aslam',\n",
       " 'sid': 5007,\n",
       " 'timing': 'Evening'}"
      ]
     },
     "execution_count": 155,
     "metadata": {},
     "output_type": "execute_result"
    }
   ],
   "source": [
    "d1"
   ]
  },
  {
   "cell_type": "code",
   "execution_count": 156,
   "metadata": {},
   "outputs": [
    {
     "name": "stdout",
     "output_type": "stream",
     "text": [
      "    \n",
      "    PIAIC Islamabad\n",
      "    id: 5007\n",
      "    Name: Qasim\n",
      "    Father's Name: Aslam\n",
      "    Course: AI\n",
      "    Timing: Evening\n",
      "    \n"
     ]
    }
   ],
   "source": [
    "print(id_card(**d1))  # to derive from a list use * asteric and ** to derive from a dictionary"
   ]
  },
  {
   "cell_type": "markdown",
   "metadata": {},
   "source": [
    "### Recursive Function"
   ]
  },
  {
   "cell_type": "code",
   "execution_count": 157,
   "metadata": {},
   "outputs": [
    {
     "data": {
      "text/plain": [
       "120"
      ]
     },
     "execution_count": 157,
     "metadata": {},
     "output_type": "execute_result"
    }
   ],
   "source": [
    "def abc(n):\n",
    "    if n==1:\n",
    "        return 1\n",
    "    return n * abc(n-1)  # 5 * 4 * 3 * 2 * 1\n",
    "\n",
    "abc(5)"
   ]
  },
  {
   "cell_type": "markdown",
   "metadata": {},
   "source": [
    "### Generator Function"
   ]
  },
  {
   "cell_type": "code",
   "execution_count": 158,
   "metadata": {},
   "outputs": [
    {
     "name": "stdout",
     "output_type": "stream",
     "text": [
      "<generator object abc at 0x0000022BB638DED0>\n",
      "0\n",
      "1\n",
      "2\n",
      "3\n",
      "4\n",
      "5\n",
      "6\n",
      "[7, 8, 9, 10]\n"
     ]
    }
   ],
   "source": [
    "#  it keeps in mind previous value\n",
    "#  it doesnot allocat all in memory\n",
    "#  it is for efficient use of memory\n",
    "\n",
    "def abc():\n",
    "    for i in range(11):\n",
    "        yield i\n",
    "\n",
    "a = abc()\n",
    "print(a)\n",
    "print(next(a))\n",
    "print(next(a))\n",
    "print(next(a))\n",
    "print(next(a))\n",
    "print(next(a))\n",
    "print(next(a))\n",
    "print(next(a))\n",
    "\n",
    "print(list(a))"
   ]
  },
  {
   "cell_type": "markdown",
   "metadata": {},
   "source": [
    "### Lambda Functions"
   ]
  },
  {
   "cell_type": "code",
   "execution_count": 159,
   "metadata": {},
   "outputs": [
    {
     "data": {
      "text/plain": [
       "11"
      ]
     },
     "execution_count": 159,
     "metadata": {},
     "output_type": "execute_result"
    }
   ],
   "source": [
    "# it is without any name and in single line function\n",
    "\n",
    "def xyz(a,b):    # this is a named function\n",
    "    return a + b\n",
    "xyz(5,6)"
   ]
  },
  {
   "cell_type": "code",
   "execution_count": 160,
   "metadata": {},
   "outputs": [
    {
     "data": {
      "text/plain": [
       "11"
      ]
     },
     "execution_count": 160,
     "metadata": {},
     "output_type": "execute_result"
    }
   ],
   "source": [
    "# it is without any name and in single line function\n",
    "\n",
    "def xyz(a,b): return a + b    # named function in single row\n",
    "xyz(5,6)"
   ]
  },
  {
   "cell_type": "code",
   "execution_count": 161,
   "metadata": {},
   "outputs": [
    {
     "data": {
      "text/plain": [
       "7"
      ]
     },
     "execution_count": 161,
     "metadata": {},
     "output_type": "execute_result"
    }
   ],
   "source": [
    "xyz = lambda a,b: a + b\n",
    "\n",
    "xyz(3,4)"
   ]
  },
  {
   "cell_type": "code",
   "execution_count": 162,
   "metadata": {},
   "outputs": [
    {
     "name": "stdout",
     "output_type": "stream",
     "text": [
      "X is greater than Y\n"
     ]
    }
   ],
   "source": [
    "# lambda function using if, else statements\n",
    "\n",
    "xyz = lambda x,y: print(\"X is greater than Y\") if x > y else print(\"Y is greater than X\")\n",
    "\n",
    "xyz(5,2)"
   ]
  },
  {
   "cell_type": "code",
   "execution_count": 163,
   "metadata": {},
   "outputs": [
    {
     "name": "stdout",
     "output_type": "stream",
     "text": [
      "X > Y\n"
     ]
    }
   ],
   "source": [
    "# lambda function using if, elif, else statements\n",
    "\n",
    "xyz = lambda x,y: print(\"X > Y\") if x > y else (print(\"X = Y are equal\") if x == y else print(\"X < Y\"))\n",
    "\n",
    "xyz(5,3)"
   ]
  }
 ],
 "metadata": {
  "kernelspec": {
   "display_name": "Python 3",
   "language": "python",
   "name": "python3"
  },
  "language_info": {
   "codemirror_mode": {
    "name": "ipython",
    "version": 3
   },
   "file_extension": ".py",
   "mimetype": "text/x-python",
   "name": "python",
   "nbconvert_exporter": "python",
   "pygments_lexer": "ipython3",
   "version": "3.7.3"
  }
 },
 "nbformat": 4,
 "nbformat_minor": 2
}
