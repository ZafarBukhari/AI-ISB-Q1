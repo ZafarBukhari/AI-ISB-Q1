{
 "cells": [
  {
   "cell_type": "code",
   "execution_count": 1,
   "metadata": {},
   "outputs": [
    {
     "name": "stdout",
     "output_type": "stream",
     "text": [
      "Pakistan Zindabad\n"
     ]
    }
   ],
   "source": [
    "print(\"Pakistan Zindabad\")"
   ]
  },
  {
   "cell_type": "code",
   "execution_count": 18,
   "metadata": {},
   "outputs": [
    {
     "name": "stdout",
     "output_type": "stream",
     "text": [
      "Please enter student's name: Meesam Turab\n",
      "Please enter student's grade: 9th\n",
      "Please enter student's section: A\n",
      "Please enter student's Roll No: 23\n",
      "Name\t:\tMeesam Turab\n",
      "Grade\t:\t9th\n",
      "Section\t:\tA\n",
      "Roll No\t:\t23\n"
     ]
    }
   ],
   "source": [
    "name = input(\"Please enter student's name: \")\n",
    "grade = input(\"Please enter student's grade: \")\n",
    "section = input(\"Please enter student's section: \")\n",
    "roll_no = input(\"Please enter student's Roll No: \")\n",
    "\n",
    "\"\"\"\n",
    "name = {}\n",
    "grade={}\n",
    "section={}\n",
    "roll_no={}\n",
    "\"\"\".format(name, grade, section, roll_no)\n",
    "\n",
    "print(\"Name\\t:\\t{}\\nGrade\\t:\\t{}\\nSection\\t:\\t{}\\nRoll No\\t:\\t{}\".format(name,grade,section,roll_no))"
   ]
  },
  {
   "cell_type": "code",
   "execution_count": null,
   "metadata": {},
   "outputs": [],
   "source": []
  }
 ],
 "metadata": {
  "kernelspec": {
   "display_name": "Python 3",
   "language": "python",
   "name": "python3"
  },
  "language_info": {
   "codemirror_mode": {
    "name": "ipython",
    "version": 3
   },
   "file_extension": ".py",
   "mimetype": "text/x-python",
   "name": "python",
   "nbconvert_exporter": "python",
   "pygments_lexer": "ipython3",
   "version": "3.7.3"
  }
 },
 "nbformat": 4,
 "nbformat_minor": 2
}
