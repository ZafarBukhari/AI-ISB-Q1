{
 "cells": [
  {
   "cell_type": "code",
   "execution_count": 1,
   "metadata": {},
   "outputs": [
    {
     "name": "stdout",
     "output_type": "stream",
     "text": [
      "You got grade C.\n"
     ]
    }
   ],
   "source": [
    "marks = 75\n",
    "\n",
    "if marks >= 90:\n",
    "    print(\"You got grade A.\")\n",
    "elif marks > 80 and marks < 90:\n",
    "    print(\"You got grade B.\")\n",
    "elif marks > 70 and marks <80:\n",
    "    print(\"You got grade C.\")\n",
    "elif marks > 60 and marks <70:\n",
    "    print(\"You got grade D.\")\n",
    "else:\n",
    "    print(\"You got grade E.\")"
   ]
  },
  {
   "cell_type": "code",
   "execution_count": null,
   "metadata": {},
   "outputs": [],
   "source": [
    "# cost per night = 1.59$\n",
    "# if return time is after 8pm extra night will be charges\n",
    "# normal scratch charges = 1$ extra\n",
    "# Sunday discout = 30% and dvd scratch charges = 2$ extra\n",
    "# Thursday discount = 50%\n",
    "\n",
    "\n",
    "issue_day = input(\"Please enter issue Day: \")\n",
    "issue_day = issue_day.lower()\n",
    "\n",
    "no_of_nights = int(input(\"Enter no of nights DVD rented: \"))\n",
    "\n",
    "r_time = input(\"DVD returned after 8 p.m. Enter Y | N : \")\n",
    "r_time = r_time.lower()\n",
    "\n",
    "rate = 1.59\n",
    "\n",
    "charges = 0\n",
    "\n",
    "\n",
    "\n",
    "if issue_day == 'Sunday':\n",
    "    no_of_nights += 1\n",
    "    charges\n",
    "        \n",
    "\n",
    "# isAfter8pm == 'n':    \n",
    "#     charges = days * rate\n",
    "#     print(charges)\n",
    "    \n",
    "# elif \n",
    "# else:\n",
    "#     print(\"Enter corrent no of days.\")\n",
    "    "
   ]
  },
  {
   "cell_type": "code",
   "execution_count": null,
   "metadata": {},
   "outputs": [],
   "source": [
    "numbers = [0,1,2,3,4,5,6,7,8,9]\n",
    "index = 0\n",
    "while (index < 10):\n",
    "    print(numbers[index])\n",
    "    \n",
    "    if numbers[index] == 6:\n",
    "        break\n",
    "    else:\n",
    "        index += 1"
   ]
  },
  {
   "cell_type": "code",
   "execution_count": null,
   "metadata": {},
   "outputs": [],
   "source": [
    "students_detail = []\n",
    "\n",
    "flag = True\n",
    "\n",
    "while flag == True:\n",
    "    students_detail[name] = input(\"Please enter student name: \")\n",
    "    students_detail[marks] = input(\"Please enter student subjects & marks: \").split(\",\")\n",
    "    students_detail[hobbies] = input(\"Please enter student hobbies: \").split(\",\")\n",
    "    "
   ]
  },
  {
   "cell_type": "code",
   "execution_count": null,
   "metadata": {},
   "outputs": [],
   "source": [
    "students_detail = []\n",
    "\n",
    "exit = ''\n",
    "\n",
    "while exit != 'x':\n",
    "    stdData = {}\n",
    "    stdData['user_id']=input('Please student id: ')\n",
    "    stdData['name']=input('Please student name: ')\n",
    "    stdData['marks']={input('Please enter student subjects : ') : input('Please enter student marks: ') for i in range(3)}\n",
    "        \n",
    "    \n",
    "#     stdData['hobbies']=input('Please enter student hobbies: ').split(',')    \n",
    "    students_detail.append(stdData)\n",
    "    exit = input(\"Please enter x to exit: \")\n",
    "\n",
    "students_detail\n",
    "\n",
    "# pprint(dict_name)"
   ]
  }
 ],
 "metadata": {
  "kernelspec": {
   "display_name": "Python 3",
   "language": "python",
   "name": "python3"
  },
  "language_info": {
   "codemirror_mode": {
    "name": "ipython",
    "version": 3
   },
   "file_extension": ".py",
   "mimetype": "text/x-python",
   "name": "python",
   "nbconvert_exporter": "python",
   "pygments_lexer": "ipython3",
   "version": "3.7.3"
  }
 },
 "nbformat": 4,
 "nbformat_minor": 2
}
