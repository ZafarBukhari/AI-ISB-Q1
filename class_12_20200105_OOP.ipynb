{
 "cells": [
  {
   "cell_type": "markdown",
   "metadata": {},
   "source": [
    "# Topic\n",
    "- Class\n",
    "- Instance\n",
    "- Method\n",
    "- Attributes / properties\n",
    "- Class variable\n",
    "- Instance variable\n",
    "- Inheritance\n",
    "- Encapsulation\n",
    "- Abstraction\n",
    "- Polymorphism\n",
    "  - Operator Overloading\n",
    "  - Function Overlaoding\n",
    "  - Function Over Riding\n",
    "\n"
   ]
  },
  {
   "cell_type": "markdown",
   "metadata": {},
   "source": [
    "# Programming Paradigm\n",
    "- Linear Programing\n",
    "- Functional / Sub-Routine Programming\n",
    "- Structured Programming\n",
    "- **Object Oriented Programming**\n",
    "  - Managing a program similarly as dealing objects in real world. \n",
    "  - Anything (living or non-living) in real world which has a specific name is called an 'object'.\n",
    "  - Every object has 'Methods' and 'Attributes'\n",
    "    - In programming 'Methods' are like functions\n",
    "    - In other words, any function / action an object can perform are called 'Methods' of an object.\n",
    "  - Properties/fields are attributes of an 'Object'\n",
    "  - Properties itself don't perform any action rather it help to recognize any object.\n",
    "  - All those objects having same 'Methods' and 'Attributes' are of same 'Class'.\n",
    "  - Thus, all methods and attributes of a 'Class' are same but different objects have different 'Methods' & 'Attributes'.\n",
    "  - *Object Oriented Programming has four important pillars:*\n",
    "    - **Inheritance:**\n",
    "      It is a mechanism in which one class acquires the property of another class. For example, a child inherits the traits of his/her parents. It is a mechanism wherein a new class is derived from an existing class. There is also concept of 'Multiple Inheritance', which means deriving inheritance from different parent classes.\n",
    "    - **Polymorphism:**\n",
    "      The word polymorphism means having many forms. Real life example of polymorphism is a 'person' at the same time can have different characteristic. Like a man at the same time is a father, a husband, an employee. So the same person posses different behaviour in different situations. This is called polymorphism.\n",
    "      - Overloading: Overloading occurs when two or more methods in one class have the same method name but different parameters.\n",
    "      - Over-riding: Overriding means having two methods with the same method name and parameters (i.e., method signature).\n",
    "    - **Encapsulation:**\n",
    "      - Encapsulation can be used to hide data members and member functions. Under this definition, encapsulation means that the internal representation of an object is generally hidden from view outside of the object's definition. Typically, only the object's own methods can directly inspect or manipulate its fields.\n",
    "        - Creating Class\n",
    "        - Making some methods / attributes private\n",
    "        - Making a function (getter / setter ) to change those private methods / attributes.\n",
    "    - **Abstraction:** - (Abstraction means displaying only essential information and hiding the details)\n",
    "      - Abstraction means displaying only essential information and hiding the details. Data abstraction refers to providing only essential information about the data to the outside world, hiding the background details or implementation. Consider a real life example of a man driving a car. ... This is what abstraction is.\n",
    "      - Abstract classes are classes that contain one or more abstract methods. An abstract method is a method that is declared, but contains no implementation. Abstract classes may not be instantiated, and require subclasses to provide implementations for the abstract methods."
   ]
  },
  {
   "cell_type": "markdown",
   "metadata": {},
   "source": [
    "## Working in Linear Programming"
   ]
  },
  {
   "cell_type": "code",
   "execution_count": 1,
   "metadata": {},
   "outputs": [
    {
     "name": "stdout",
     "output_type": "stream",
     "text": [
      "Ali Kashif\n"
     ]
    }
   ],
   "source": [
    "# doing with Linear Programming\n",
    "\n",
    "s1name = \"Ali\"\n",
    "s1fname = \"Hamza\"\n",
    "s1id = 1\n",
    "def s1login(): pass\n",
    "def s1logout(): pass\n",
    "def s1quiz_attemp(): pass\n",
    "\n",
    "\n",
    "s2name = \"Kashif\"\n",
    "s2fname = \"Asif\"\n",
    "s2id = 2\n",
    "def s2login(): pass\n",
    "def s2logout(): pass\n",
    "def s2quiz_attemp(): pass\n",
    "\n",
    "print(s1name, s2name)"
   ]
  },
  {
   "cell_type": "markdown",
   "metadata": {},
   "source": [
    "## Working in OOP Paradigm to Create a Class"
   ]
  },
  {
   "cell_type": "code",
   "execution_count": 2,
   "metadata": {},
   "outputs": [],
   "source": [
    "# a function in a class is created to call the class, which is called 'Constructer'\n",
    "# a builtin function is already available in class, which is called 'Destructor'\n",
    "\n",
    "class Student():  # defining class\n",
    "#     'pass'    this keyword is used to make indented space legal\n",
    "    def __init__(self, sid):    # data-members, fields, attributes are being set\n",
    "        self.sid = sid    # attributes / properties / field / data-members\n",
    "        self.name = \"\"\n",
    "        self.fname = \"\"\n",
    "        self.course = \"\"\n",
    "        self.fee = 0\n",
    "        \n",
    "    def login(self):    # Method / Action / Function\n",
    "        pass   # to leave function body empty\n",
    "    \n",
    "    def logout(self):  # Method / Action / Function\n",
    "        pass   # to leave function body empty\n",
    "    \n",
    "    def quit_attempt(self):   # Method / Action / Function\n",
    "        pass   # to leave function body empty\n",
    "    \n",
    "    def attendance_mark(self):   # Method / Action / Function\n",
    "        pass\n",
    "\n",
    "# making three instances / objects\n",
    "s1 = Student(1)\n",
    "s2 = Student(2)\n",
    "s3 = Student(3)"
   ]
  },
  {
   "cell_type": "code",
   "execution_count": 3,
   "metadata": {},
   "outputs": [
    {
     "name": "stdout",
     "output_type": "stream",
     "text": [
      "\n",
      "\n",
      "\n"
     ]
    }
   ],
   "source": [
    "print(s1.name, s2.name, s3.name, sep=\"\\n\")"
   ]
  },
  {
   "cell_type": "code",
   "execution_count": 4,
   "metadata": {},
   "outputs": [],
   "source": [
    "s1.name = \"Ali\"\n",
    "s2.name = \"Hamza\"\n",
    "s3.name = \"Adnan\""
   ]
  },
  {
   "cell_type": "code",
   "execution_count": 5,
   "metadata": {},
   "outputs": [
    {
     "name": "stdout",
     "output_type": "stream",
     "text": [
      "Ali\n",
      "Hamza\n",
      "Adnan\n"
     ]
    }
   ],
   "source": [
    "print(s1.name, s2.name, s3.name, sep=\"\\n\")"
   ]
  },
  {
   "cell_type": "markdown",
   "metadata": {},
   "source": [
    "## Using \"this\" as first parameter instead of 'self'"
   ]
  },
  {
   "cell_type": "code",
   "execution_count": 6,
   "metadata": {},
   "outputs": [],
   "source": [
    "# a function in a class is created to call the class, which is called 'Constructer'\n",
    "# a builtin function is already available in class, which is called 'Destructor'\n",
    "\n",
    "class Student():\n",
    "#     'pass'    this keyword is used to make indented space legal\n",
    "    def __init__(this, sid):    # data-members, fields, attributes are being set\n",
    "        this.sid = sid\n",
    "        this.name = \"\"\n",
    "        this.fname = \"\"\n",
    "        this.course = \"\"\n",
    "        this.fee = 0\n",
    "        \n",
    "    def login(this):\n",
    "        pass   # to leave function body empty\n",
    "    \n",
    "    def logout(this):\n",
    "        pass   # to leave function body empty\n",
    "    \n",
    "    def quit_attempt(this):\n",
    "        pass   # to leave function body empty\n",
    "    \n",
    "    def attendance_mark(this):\n",
    "        pass\n",
    "\n",
    "# making three instances / objects\n",
    "s1 = Student(1)\n",
    "s2 = Student(2)\n",
    "s3 = Student(3)"
   ]
  },
  {
   "cell_type": "code",
   "execution_count": 9,
   "metadata": {},
   "outputs": [
    {
     "name": "stdout",
     "output_type": "stream",
     "text": [
      "\n",
      "\n",
      "\n"
     ]
    }
   ],
   "source": [
    "print(s1.name, s2.name, s3.name, sep=\"\\n\")"
   ]
  },
  {
   "cell_type": "markdown",
   "metadata": {},
   "source": [
    "## Using any word in place of 'self' or 'this'"
   ]
  },
  {
   "cell_type": "code",
   "execution_count": 8,
   "metadata": {},
   "outputs": [],
   "source": [
    "# a function in a class is created to call the class, which is called 'Constructer'\n",
    "# a builtin function is already available in class, which is called 'Destructor'\n",
    "\n",
    "class Student():\n",
    "#     'pass'    this keyword is used to make indented space legal\n",
    "    def __init__(abc, sid):    # data-members, fields, attributes are being set\n",
    "        abc.sid = sid\n",
    "        abc.name = \"\"\n",
    "        abc.fname = \"\"\n",
    "        abc.course = \"\"\n",
    "        abc.fee = 0\n",
    "        \n",
    "    def login(abc):\n",
    "        pass   # to leave function body empty\n",
    "    \n",
    "    def logout(abc):\n",
    "        pass   # to leave function body empty\n",
    "    \n",
    "    def quit_attempt(abc):\n",
    "        pass   # to leave function body empty\n",
    "    \n",
    "    def attendance_mark(abc):\n",
    "        pass\n",
    "\n",
    "# making three instances / objects\n",
    "s1 = Student(1)\n",
    "s2 = Student(2)\n",
    "s3 = Student(3)"
   ]
  },
  {
   "cell_type": "markdown",
   "metadata": {},
   "source": [
    "## Creating Class Variable"
   ]
  },
  {
   "cell_type": "code",
   "execution_count": 12,
   "metadata": {},
   "outputs": [
    {
     "data": {
      "text/plain": [
       "3"
      ]
     },
     "execution_count": 12,
     "metadata": {},
     "output_type": "execute_result"
    }
   ],
   "source": [
    "# a function in a class is created to call the class, which is called 'Constructer'\n",
    "# a builtin function is already available in class, which is called 'Destructor'\n",
    "\n",
    "class Student():  # defining class\n",
    "    \n",
    "    counter = 0   # this is a class variable\n",
    "\n",
    "    def __init__(self, sid):    # data-members, fields, attributes are being set\n",
    "        self.sid = sid    # attributes / properties / field / data-members\n",
    "        self.name = \"\"\n",
    "        self.fname = \"\"\n",
    "        self.course = \"\"\n",
    "        self.fee = 0\n",
    "        self.user = \"\"\n",
    "        Student.counter += 1  # accessing / updating class variable with 'class name' as prefix\n",
    "        \n",
    "    def login(self, user_name, password):    # Method / Action / Function\n",
    "        self.user = user_name\n",
    "        print(\"Welcome \", self.user)\n",
    "        \n",
    "        pass   # to leave function body empty\n",
    "    \n",
    "    def logout(self):  # Method / Action / Function\n",
    "        pass   # to leave function body empty\n",
    "    \n",
    "    def quit_attempt(self):   # Method / Action / Function\n",
    "        pass   # to leave function body empty\n",
    "    \n",
    "    def attendance_mark(self):   # Method / Action / Function\n",
    "        pass\n",
    "\n",
    "# making three instances / objects\n",
    "s1 = Student(1)\n",
    "s2 = Student(2)\n",
    "s3 = Student(3)\n",
    "\n",
    "s1.counter   # this will display '0'"
   ]
  },
  {
   "cell_type": "code",
   "execution_count": 13,
   "metadata": {},
   "outputs": [
    {
     "name": "stdout",
     "output_type": "stream",
     "text": [
      "Welcome  Qasim\n"
     ]
    }
   ],
   "source": [
    "#  to check the login\n",
    "\n",
    "s1.login(\"Qasim\",\"123\")"
   ]
  },
  {
   "cell_type": "code",
   "execution_count": 14,
   "metadata": {},
   "outputs": [
    {
     "name": "stdout",
     "output_type": "stream",
     "text": [
      "ABCD\n"
     ]
    }
   ],
   "source": [
    "# Adding attribute in a specific object\n",
    "s1.DOB = \"ABCD\"\n",
    "print(s1.DOB)"
   ]
  },
  {
   "cell_type": "code",
   "execution_count": 15,
   "metadata": {},
   "outputs": [],
   "source": [
    "del s1.DOB"
   ]
  },
  {
   "cell_type": "code",
   "execution_count": 20,
   "metadata": {},
   "outputs": [
    {
     "data": {
      "text/plain": [
       "1"
      ]
     },
     "execution_count": 20,
     "metadata": {},
     "output_type": "execute_result"
    }
   ],
   "source": [
    "# to find any attribute in an object\n",
    "\n",
    "s1.__getattribute__(\"sid\")"
   ]
  },
  {
   "cell_type": "markdown",
   "metadata": {},
   "source": [
    "## Inheritance"
   ]
  },
  {
   "cell_type": "code",
   "execution_count": 21,
   "metadata": {},
   "outputs": [],
   "source": [
    "# Create a 'Parent' class\n",
    "\n",
    "class Parent():\n",
    "    def __init__(self):\n",
    "        self.name = \"\"    # attribute\n",
    "        self.fname = \"\"   # attribute\n",
    "    \n",
    "    def speak(self, words=\"\"):    # method\n",
    "        print(words, \"....\")\n",
    "    \n",
    "    def eat(self, food=\"Bread\"):   # method\n",
    "        print(food)\n",
    "\n",
    "#  Create a 'Child' calss\n",
    "class Child(Parent):\n",
    "    pass"
   ]
  },
  {
   "cell_type": "code",
   "execution_count": 22,
   "metadata": {},
   "outputs": [
    {
     "name": "stdout",
     "output_type": "stream",
     "text": [
      "Zafar Abbas\n"
     ]
    }
   ],
   "source": [
    "p_obj1 = Parent()\n",
    "p_obj1.name = \"Zafar Abbas\"\n",
    "print(p_obj1.name)"
   ]
  },
  {
   "cell_type": "code",
   "execution_count": 24,
   "metadata": {},
   "outputs": [],
   "source": [
    "# making object of a child class\n",
    "c_obj1 = Child()"
   ]
  },
  {
   "cell_type": "code",
   "execution_count": 27,
   "metadata": {},
   "outputs": [
    {
     "name": "stdout",
     "output_type": "stream",
     "text": [
      "Salute to Shaheed Qasim Sulemani\n"
     ]
    }
   ],
   "source": [
    "c_obj1 = Parent()\n",
    "c_obj1.speak = \"Salute to Shaheed Qasim Sulemani\"\n",
    "print(c_obj1.speak)"
   ]
  },
  {
   "cell_type": "markdown",
   "metadata": {},
   "source": [
    "### Task No.1"
   ]
  },
  {
   "cell_type": "code",
   "execution_count": 29,
   "metadata": {},
   "outputs": [
    {
     "name": "stdout",
     "output_type": "stream",
     "text": [
      "FL\n"
     ]
    }
   ],
   "source": [
    "# Making two Parent Classes and one Child Class\n",
    "\n",
    "class Father():\n",
    "    def __init__(self):\n",
    "        self.sound = \"Fs\"    # attribute\n",
    "        self.eye_color = \"Brown\"     # attribute\n",
    "    \n",
    "    def speak(self):    # method\n",
    "        print(\"Father voice\")\n",
    "    \n",
    "    def listning(self):\n",
    "        print(\"FL\")\n",
    "    \n",
    "class Mother():\n",
    "    def __init__(self):\n",
    "        self.face = \"Mother\"\n",
    "        self.hair_color = \"Black\"\n",
    "    \n",
    "    def listning(self):\n",
    "        print(\"ML\")\n",
    "    \n",
    "    def abc(self):\n",
    "        print(\"ABCD\")\n",
    "        \n",
    "#  Create a 'Child' calss\n",
    "class Child(Father, Mother):    \n",
    "    pass\n",
    "\n",
    "asif = Child()\n",
    "asif.listning()\n",
    "    "
   ]
  },
  {
   "cell_type": "markdown",
   "metadata": {},
   "source": [
    "## Polymorphism"
   ]
  },
  {
   "cell_type": "markdown",
   "metadata": {},
   "source": [
    "### Overloading"
   ]
  },
  {
   "cell_type": "code",
   "execution_count": 34,
   "metadata": {},
   "outputs": [
    {
     "name": "stdout",
     "output_type": "stream",
     "text": [
      "1\n",
      "10\n"
     ]
    }
   ],
   "source": [
    "class A():\n",
    "    def abc(self, *n):\n",
    "        print(sum(n))\n",
    "       \n",
    "        \n",
    "obj1 = A()\n",
    "obj1.abc(1)\n",
    "obj1.abc(1,2,3,4)"
   ]
  },
  {
   "cell_type": "markdown",
   "metadata": {},
   "source": [
    "### Over Riding"
   ]
  },
  {
   "cell_type": "code",
   "execution_count": 35,
   "metadata": {},
   "outputs": [
    {
     "name": "stdout",
     "output_type": "stream",
     "text": [
      "Speak Function Class B\n"
     ]
    }
   ],
   "source": [
    "class A():\n",
    "    def speak(self):\n",
    "        print(\"Speak Function Class A\")\n",
    "\n",
    "class B(A):\n",
    "    def speak(self):   # over riding\n",
    "        print(\"Speak Function Class B\")\n",
    "\n",
    "obj1 = B()\n",
    "obj1.speak()"
   ]
  },
  {
   "cell_type": "code",
   "execution_count": null,
   "metadata": {},
   "outputs": [],
   "source": []
  }
 ],
 "metadata": {
  "kernelspec": {
   "display_name": "Python 3",
   "language": "python",
   "name": "python3"
  },
  "language_info": {
   "codemirror_mode": {
    "name": "ipython",
    "version": 3
   },
   "file_extension": ".py",
   "mimetype": "text/x-python",
   "name": "python",
   "nbconvert_exporter": "python",
   "pygments_lexer": "ipython3",
   "version": "3.7.3"
  }
 },
 "nbformat": 4,
 "nbformat_minor": 2
}
