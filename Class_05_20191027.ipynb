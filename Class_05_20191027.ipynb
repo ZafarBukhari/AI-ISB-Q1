{
 "cells": [
  {
   "cell_type": "code",
   "execution_count": 1,
   "metadata": {},
   "outputs": [
    {
     "name": "stdout",
     "output_type": "stream",
     "text": [
      "Pakistan Zindabad\n"
     ]
    }
   ],
   "source": [
    "print(\"Pakistan Zindabad\")"
   ]
  },
  {
   "cell_type": "markdown",
   "metadata": {},
   "source": [
    "# Student Admit Card"
   ]
  },
  {
   "cell_type": "code",
   "execution_count": 2,
   "metadata": {},
   "outputs": [
    {
     "name": "stdout",
     "output_type": "stream",
     "text": [
      "Please enter student's name: Zafar Abbas\n",
      "Please enter student's grade: AI Q1\n",
      "Please enter student's section: Morning\n",
      "Please enter student's Roll No: PIAIC51214\n",
      "Name\t:\tZafar Abbas\n",
      "Grade\t:\tAI Q1\n",
      "Section\t:\tMorning\n",
      "Roll No\t:\tPIAIC51214\n",
      "Campus\t:\tBahria University, Islamabad\n"
     ]
    }
   ],
   "source": [
    "name = input(\"Please enter student's name: \")\n",
    "grade = input(\"Please enter student's grade: \")\n",
    "section = input(\"Please enter student's section: \")\n",
    "roll_no = input(\"Please enter student's Roll No: \")\n",
    "campus = \"Bahria University, Islamabad\"\n",
    "\n",
    "\"\"\"\n",
    "PIAIC ISLAMABAD\n",
    "name = {}\n",
    "grade={}\n",
    "section={}\n",
    "roll_no={}\n",
    "campus={}\n",
    "\"\"\".format(name, grade, section, roll_no,campus)\n",
    "\n",
    "print(\"Name\\t:\\t{}\\nGrade\\t:\\t{}\\nSection\\t:\\t{}\\nRoll No\\t:\\t{}\\nCampus\\t:\\t{}\".format(name,grade,section,roll_no,campus))"
   ]
  },
  {
   "cell_type": "markdown",
   "metadata": {},
   "source": [
    "# How to get help at jupyter notbook"
   ]
  },
  {
   "cell_type": "code",
   "execution_count": 3,
   "metadata": {},
   "outputs": [],
   "source": [
    "print?"
   ]
  },
  {
   "cell_type": "code",
   "execution_count": 4,
   "metadata": {},
   "outputs": [],
   "source": [
    "print??\n",
    "?print\n",
    "print??"
   ]
  },
  {
   "cell_type": "code",
   "execution_count": null,
   "metadata": {},
   "outputs": [],
   "source": []
  }
 ],
 "metadata": {
  "kernelspec": {
   "display_name": "Python 3",
   "language": "python",
   "name": "python3"
  },
  "language_info": {
   "codemirror_mode": {
    "name": "ipython",
    "version": 3
   },
   "file_extension": ".py",
   "mimetype": "text/x-python",
   "name": "python",
   "nbconvert_exporter": "python",
   "pygments_lexer": "ipython3",
   "version": "3.7.3"
  }
 },
 "nbformat": 4,
 "nbformat_minor": 2
}
