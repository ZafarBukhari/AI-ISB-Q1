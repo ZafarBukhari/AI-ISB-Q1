{
  "nbformat": 4,
  "nbformat_minor": 0,
  "metadata": {
    "colab": {
      "name": "mnist_fashion.ipynb",
      "provenance": [],
      "collapsed_sections": [],
      "authorship_tag": "ABX9TyP6v1p1OsSt5IVhjHqXiHci",
      "include_colab_link": true
    },
    "kernelspec": {
      "name": "python3",
      "display_name": "Python 3"
    },
    "language_info": {
      "name": "python"
    }
  },
  "cells": [
    {
      "cell_type": "markdown",
      "metadata": {
        "id": "view-in-github",
        "colab_type": "text"
      },
      "source": [
        "<a href=\"https://colab.research.google.com/github/ZafarBukhari/AI-ISB-Q1/blob/master/mnist_fashion.ipynb\" target=\"_parent\"><img src=\"https://colab.research.google.com/assets/colab-badge.svg\" alt=\"Open In Colab\"/></a>"
      ]
    },
    {
      "cell_type": "markdown",
      "metadata": {
        "id": "lCgP4uauJeWl"
      },
      "source": [
        "## **MNIST FASHION**\n",
        "\n",
        "---"
      ]
    },
    {
      "cell_type": "markdown",
      "metadata": {
        "id": "U2ldVR2nK2cg"
      },
      "source": [
        "# Loading MNIST Fashion Dataset"
      ]
    },
    {
      "cell_type": "code",
      "metadata": {
        "colab": {
          "base_uri": "https://localhost:8080/"
        },
        "id": "-Vi0l5hlJdgz",
        "outputId": "a3ddfbdc-a5c9-46f2-9598-5e0366967b59"
      },
      "source": [
        "# Importing tensorflow\n",
        "import tensorflow as tf\n",
        "\n",
        "# Loading keras datasets\n",
        "mnist = tf.keras.datasets.fashion_mnist\n",
        "\n",
        "# Loading MNIST Fashion Dataset\n",
        "(training_images, training_labels), (test_images, test_labels) = mnist.load_data()\n",
        "\n",
        "# Normalizing the Data\n",
        "training_images = training_images / 255.0\n",
        "test_images = test_images / 255.0\n",
        "\n",
        "# Making Network Architecture\n",
        "model = tf.keras.models.Sequential([tf.keras.layers.Flatten(),\n",
        "                                    tf.keras.layers.Dense(512, activation = tf.nn.relu),\n",
        "                                    tf.keras.layers.Dense(10, activation = tf.nn.softmax)])\n",
        "\n",
        "# The Compilation Step\n",
        "model.compile(optimizer=tf.keras.optimizers.Adam(),\n",
        "               loss = 'sparse_categorical_crossentropy',\n",
        "               metrics = ['accuracy'])\n",
        "\n",
        "# Training the Model\n",
        "model.fit(training_images, training_labels, epochs=5, batch_size=128)\n",
        "\n",
        "# Testing / Evaluating the Model\n",
        "test_acc = model.evaluate(test_images, test_labels)\n",
        "\n"
      ],
      "execution_count": 6,
      "outputs": [
        {
          "output_type": "stream",
          "text": [
            "Epoch 1/5\n",
            "469/469 [==============================] - 4s 8ms/step - loss: 0.5047 - accuracy: 0.8233\n",
            "Epoch 2/5\n",
            "469/469 [==============================] - 4s 8ms/step - loss: 0.3697 - accuracy: 0.8685\n",
            "Epoch 3/5\n",
            "469/469 [==============================] - 4s 8ms/step - loss: 0.3338 - accuracy: 0.8795\n",
            "Epoch 4/5\n",
            "469/469 [==============================] - 4s 8ms/step - loss: 0.3036 - accuracy: 0.8892\n",
            "Epoch 5/5\n",
            "469/469 [==============================] - 4s 8ms/step - loss: 0.2888 - accuracy: 0.8944\n",
            "313/313 [==============================] - 1s 2ms/step - loss: 0.3469 - accuracy: 0.8706\n"
          ],
          "name": "stdout"
        }
      ]
    },
    {
      "cell_type": "code",
      "metadata": {
        "colab": {
          "base_uri": "https://localhost:8080/"
        },
        "id": "Hn3OeaQhccZe",
        "outputId": "d734b76e-9081-4895-8625-ca8e7a0b14d1"
      },
      "source": [
        "print('test_acc: ', test_acc)"
      ],
      "execution_count": 7,
      "outputs": [
        {
          "output_type": "stream",
          "text": [
            "test_acc:  [0.3468804359436035, 0.8705999851226807]\n"
          ],
          "name": "stdout"
        }
      ]
    },
    {
      "cell_type": "code",
      "metadata": {
        "id": "YTd4arqgcgh0"
      },
      "source": [
        ""
      ],
      "execution_count": null,
      "outputs": []
    }
  ]
}