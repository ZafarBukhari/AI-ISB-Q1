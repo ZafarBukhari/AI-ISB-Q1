{
 "cells": [
  {
   "cell_type": "markdown",
   "metadata": {},
   "source": [
    "#  Mega Assignment (Python)"
   ]
  },
  {
   "cell_type": "markdown",
   "metadata": {},
   "source": [
    "1. **Which of the following terms are related to dictionaries?**\n",
    "    1. **value**\n",
    "    2. item\n",
    "    3. index\n",
    "    4. **key**\n",
    "  \n",
    "    "
   ]
  },
  {
   "cell_type": "markdown",
   "metadata": {},
   "source": [
    "2. **Just like lists, + operator is used to extend dictionaries?**\n",
    "   1. True\n",
    "   2. **False**"
   ]
  },
  {
   "cell_type": "markdown",
   "metadata": {},
   "source": [
    "3. **To access items from a dictionary, we specify the index of that item within [] like myDict[0]?**\n",
    "   1. True\n",
    "   2. **False**"
   ]
  },
  {
   "cell_type": "markdown",
   "metadata": {},
   "source": [
    "4. **When we use [] to access the value from a dictionary which does not exist in that dictionary….?**\n",
    "   1. Value within [] is added to the dictionary\n",
    "   2. Value None is returned\n",
    "   3. New dictionary is created\n",
    "   4. **None of above**"
   ]
  },
  {
   "cell_type": "markdown",
   "metadata": {},
   "source": [
    "5. **What does return the pop method of a dictionary?**\n",
    "   1. list\n",
    "   2. tuple containing the pair of last item of the dictionary\n",
    "   3. dictionary\n",
    "   4. **value of the key, if it exists in the dictionary**"
   ]
  },
  {
   "cell_type": "markdown",
   "metadata": {},
   "source": [
    "6. **What does return popitem method return?**\n",
    "   1. dictionary\n",
    "   2. tupple containing the pair of last item of the dictionary\n",
    "   3. list\n",
    "   4. value of key, if it exists in the dictionary\n",
    "   5. **This is repition of above question.**"
   ]
  },
  {
   "cell_type": "markdown",
   "metadata": {},
   "source": [
    "7. **Which of the following 2 methods can be used to iterate through the items of a dictionary?**\n",
    "   1. items()\n",
    "   2. **values()**\n",
    "   3. indexes()\n",
    "   4. **keys()**"
   ]
  },
  {
   "cell_type": "markdown",
   "metadata": {},
   "source": [
    "8. **Which one of the following is used to enclose a dictionary?**\n",
    "   1. () parenthesis\n",
    "   2. **{} curly brackets**\n",
    "   3. [] square brackets\n",
    "   4. “” quotation marks"
   ]
  },
  {
   "cell_type": "markdown",
   "metadata": {},
   "source": [
    "####  9. Write Python Program add key-value pair in dictionary and check if a Given Key or Value or Both exists in a Dictionary or Not."
   ]
  },
  {
   "cell_type": "code",
   "execution_count": null,
   "metadata": {},
   "outputs": [],
   "source": [
    "myDict = {\n",
    "    \"fName\": \"Zafar\",\n",
    "    \"lName\": \"Abbas\",\n",
    "    \"stdID\": 12345,\n",
    "    \"course\": \"AI\",    \n",
    "}\n",
    "print(myDict[\"stdID\"])\n",
    "print(myDict.keys())\n",
    "print(myDict.values())\n",
    "print(myDict)"
   ]
  },
  {
   "cell_type": "markdown",
   "metadata": {},
   "source": [
    "#### 10. Write a Python Program to Count the Frequency of Words Appearing in a String Using a Dictionary and print only the words having Even (divisible by 2) frequency"
   ]
  },
  {
   "cell_type": "code",
   "execution_count": null,
   "metadata": {},
   "outputs": [],
   "source": [
    "cities = [\"Islamabad\",\"Karachi\",\"Lahore\",\"Peshawar\",\"Quetta\", \"Karachi\", \"Peshawar\"]\n",
    "i = 0\n",
    "while i<len(cities):\n",
    "    print(i)\n",
    "    i += 1\n"
   ]
  },
  {
   "cell_type": "markdown",
   "metadata": {},
   "source": [
    "11. **What will be output of following? X = [Feb, Apr, Mar, May, Jun, Jul, Aug, Jan]**\n",
    "    1. X[0:3]      = **['Feb', 'Apr', 'Mar']**\n",
    "    2. X[2:8]      = **['Mar', 'May', 'Jun', 'Jul', 'Aug', 'Jan']**\n",
    "    3. X[4:9]      = **['Jun', 'Jul', 'Aug', 'Jan']**\n",
    "    4. X[1:7:2]    = **['Apr', 'May', 'Jul']**\n",
    "    5. X[-1:-7]    = **[ ]**\n",
    "    6. X[-7:7]     = **['Apr', 'Mar', 'May', 'Jun', 'Jul', 'Aug']**\n",
    "    7. X[-1:-8:-2] = **['Jan', 'Jul', 'May', 'Apr']**\n",
    "    8. X[:4]       = **['Feb', 'Apr', 'Mar', 'May']**"
   ]
  },
  {
   "cell_type": "markdown",
   "metadata": {},
   "source": [
    "12. Remove the correct number from the list X\n",
    "    - x = [ 9,2,8,4,5]\n",
    "    - x.__?__\n",
    "    - print(x)\n",
    "    - output = [2,8,4,5]\n",
    "    - **Answer (Correct Option):**\n",
    "      1. .delete(9)\n",
    "      2. .rm(9)\n",
    "      3. **.remove(9)**"
   ]
  },
  {
   "cell_type": "markdown",
   "metadata": {},
   "source": [
    "13. **Find correct answer:**\n",
    "    - p = 3\n",
    "    - q = 'hello!'\n",
    "    - print(p  ?  q)\n",
    "    - **Answer (Correct Option):**\n",
    "      1. * \n",
    "      2. **\n",
    "      3. +\n",
    "      4. **Correct option is A.**"
   ]
  },
  {
   "cell_type": "markdown",
   "metadata": {},
   "source": [
    "14. **y = \"this is a random sentence\"**\n",
    "    - print (y__?__)\n",
    "    - Output: THIS IS A RANDOM SENTENCE\n",
    "    - **Answer (Correct Option):**\n",
    "    1. **.upper()**\n",
    "    2. .upcase()\n",
    "    3. .capitalize()"
   ]
  },
  {
   "cell_type": "markdown",
   "metadata": {},
   "source": [
    "15. **Print following statements:**\n",
    "    - p = True\n",
    "    - q = ‘True’\n",
    "    - r = 2\n",
    "    - s = 2.0\n",
    "      1. print(type(p))  =  **<class 'bool'>**\n",
    "      2. print(type(q))  =  **<class 'str'>**\n",
    "      3. print(type(r))  =  **<class 'int'>**\n",
    "      4. print(type(s))  =  **<class 'float'>**"
   ]
  },
  {
   "cell_type": "markdown",
   "metadata": {},
   "source": [
    "16. **What are the optional arguments to the function?**\n",
    "    - function_1(R1, q, p=None, R2= None)\n",
    "      1. q and R2\n",
    "      2. **p and R2**\n",
    "      3. p and R1\n",
    "      4. R1 and q"
   ]
  },
  {
   "cell_type": "markdown",
   "metadata": {},
   "source": [
    "17. **Which command invokes method X() of the object p?**\n",
    "    1. X(p)\n",
    "    2. p$x()\n",
    "    3. X().p\n",
    "    4. **p.x()**"
   ]
  },
  {
   "cell_type": "markdown",
   "metadata": {},
   "source": [
    "18. **X=4 , Y= 2**\n",
    "    1. print(X % Y)  =  **0**\n",
    "    2. print(X / Y)  =  **2.0**\n",
    "    3. print(X // Y) =  **2**\n",
    "    4. print(Y % X)  =  **2**"
   ]
  },
  {
   "cell_type": "code",
   "execution_count": null,
   "metadata": {},
   "outputs": [],
   "source": [
    "x = [[4, 1, 1], [5, 9, 0]]\n",
    "for i in x[0:1]:\n",
    "    print(i)"
   ]
  },
  {
   "cell_type": "markdown",
   "metadata": {},
   "source": [
    "21. **Which of these about a dictionary is false?**\n",
    "    1. The values of a dictionary can be accessed using keys\n",
    "    2. The keys of a dictionary can be accessed using values\n",
    "    3. Dictionaries aren’t ordered\n",
    "    4. **Dictionaries are mutable**"
   ]
  },
  {
   "cell_type": "markdown",
   "metadata": {},
   "source": [
    "22. **What is the output of the following:**\n",
    "    - D = dict()\n",
    "    - for i in range(3):\n",
    "      - for j in range(2):\n",
    "        - D[i] = j\n",
    "        - **Answer (Choose Correct):**\n",
    "           1. {0: 1, 1: 1, 2: 1}\n",
    "           2. {1: 0, 1: 1, 1: 2}\n",
    "           3. {0: 1, 1: 2, 2: 3}\n",
    "           4. **{1: 2, 1: 1, 1: 0}**"
   ]
  },
  {
   "cell_type": "markdown",
   "metadata": {},
   "source": [
    "23. **You are writing a function that increments player score in a soccer game.**\n",
    "    1. If no value is specified for points, then point must start with 1\n",
    "    2. If no value is specified for bonus, then bonus should be True\n",
    "       1. **01 def increment_score ( bonus , score , points ):**\n",
    "          - To meet the first requirement line 01 must be change to\n",
    "            - def increment_score ( bonus , score , points = 1 ): (True or False)  **Answer: True**\n",
    "          - To meet the second requirement line 01 must be change to\n",
    "            - def increment_score ( bonus = True , score , points = 1 ): (True or False)  **Answer: False**\n",
    "          - Once a parameter is defined with default value, any parameter to the right must also be defined with default values (True or False) **Answer: True**"
   ]
  },
  {
   "cell_type": "markdown",
   "metadata": {},
   "source": [
    "24. **What will be output?**\n",
    "    - def avg ( x , y , z = 50 ):\n",
    "      - adding = x + y + z\n",
    "      - avg_value = adding / 3\n",
    "      - return avg_value\n",
    " - y = avg ( x = 5 , y = 9 , z = 20 )\n",
    " - print(y)\n",
    " - **Answer = 11.333333333333334**"
   ]
  },
  {
   "cell_type": "markdown",
   "metadata": {},
   "source": [
    "#### 25. What will be output? Describe it with reason and logic behind."
   ]
  },
  {
   "cell_type": "code",
   "execution_count": null,
   "metadata": {},
   "outputs": [],
   "source": [
    "'''\n",
    "The sequence of 'Parameters' has been changed, as the Arbitrary Arguments '*opt_values' in this case is always placed\n",
    "at the end, to store more than one arguments from the user at run-time.\n",
    "Note: Adding an asteric '*' before the parameter name in the function definition receives a 'tuple of arguments', \n",
    "and can access the items accordingly.\n",
    "'''\n",
    "def avg (name, *opt_values):\n",
    "    avg_value = sum (opt_values) / len(opt_values)\n",
    "    print('Name is: ' + name + ', Marks: ' + str(avg_value))\n",
    "avg('Ali',5 , 9 , 20, 34, 87, 112)     # sequence of arguments is also altered to store mutiple values at end"
   ]
  },
  {
   "cell_type": "markdown",
   "metadata": {},
   "source": [
    "#### 26. Solution of following function."
   ]
  },
  {
   "cell_type": "code",
   "execution_count": null,
   "metadata": {},
   "outputs": [],
   "source": [
    "def display_result(winner, score, **other_info):\n",
    "    print(\"The winner was \" + winner)  # output will be 'The winner was Manchester'\n",
    "    print(\"The score was \" + score)    # output will be 'The score was 1-0'\n",
    "display_result(winner='Manchester', score=\"1-0\", overtime =\"yes\", injuries=\"none\")"
   ]
  },
  {
   "cell_type": "markdown",
   "metadata": {},
   "source": [
    "#### 27.  The position of parameters and arguments is re-arranged. Just think and find the logic behind output or error."
   ]
  },
  {
   "cell_type": "code",
   "execution_count": null,
   "metadata": {},
   "outputs": [],
   "source": [
    "'''\n",
    "Here, parameters in 'display_result' function are used in incorrect order. Because, parameter 'other_info' has been \n",
    "used as to store multiple arguments in a dictionary, and it should be placed at the end of parameters. Whereas, \n",
    "it has been used in middle of the parameters, therefore, it will generate error 'invalid syntax'\n",
    "'''\n",
    "\n",
    "def display_result(winner, **other_info, score):\n",
    "    print(\"The winner was \" + winner)\n",
    "    print(\"The score was \" + score)\n",
    "display_result(winner=\"Manchester\", overtime =\"yes\", injuries=\"none\" , score=\"1-0\")"
   ]
  },
  {
   "cell_type": "markdown",
   "metadata": {},
   "source": [
    "28. **What will be the output of the following Python expression if X=123?**\n",
    "    - print('%06d'%X)\n",
    "    - **Answer (Correct Option):**\n",
    "      1. 123000\n",
    "      2. **000123**\n",
    "      3. 000000123\n",
    "      4. 123000000"
   ]
  },
  {
   "cell_type": "markdown",
   "metadata": {},
   "source": [
    "29. **What will be the output of the following Python expression if x=22.19?**\n",
    "    - print(\"%5.2f\"%x)\n",
    "    - **Answer (Correct Option):**\n",
    "      1. 22.1900\n",
    "      2. 22.00000\n",
    "      3. **22.19**\n",
    "      4. 22.20"
   ]
  },
  {
   "cell_type": "code",
   "execution_count": null,
   "metadata": {},
   "outputs": [],
   "source": [
    "'{0:f}, {1:2f}, {2:05.2f}'.format(1.23456, 1.23456, 1.23456)"
   ]
  },
  {
   "cell_type": "markdown",
   "metadata": {},
   "source": [
    "30. **What will be the output of the following Python code?**\n",
    "    - '{0:f}, {1:2f}, {2:05.2f}'.format(1.23456, 1.23456, 1.23456)\n",
    "    - **Answer (Correct Option):**\n",
    "      1. Error\n",
    "      2. '1.234560, 1.22345, 1.23'\n",
    "      3. No output\n",
    "      4. **'1.234560, 1.234560, 01.23'**"
   ]
  },
  {
   "cell_type": "markdown",
   "metadata": {},
   "source": [
    "#### 31.  Write down the output of each line after each iterations. Do multiple experiments to change values."
   ]
  },
  {
   "cell_type": "code",
   "execution_count": 1,
   "metadata": {},
   "outputs": [
    {
     "name": "stdout",
     "output_type": "stream",
     "text": [
      "1\n"
     ]
    }
   ],
   "source": [
    "i = 1\n",
    "while False:\n",
    "    if i%2 == 0:\n",
    "        break\n",
    "print(i)\n",
    "i += 2"
   ]
  },
  {
   "cell_type": "code",
   "execution_count": 2,
   "metadata": {},
   "outputs": [
    {
     "name": "stdout",
     "output_type": "stream",
     "text": [
      "2\n"
     ]
    }
   ],
   "source": [
    "i = 2\n",
    "while False:\n",
    "    if i%2 == 1:\n",
    "        break\n",
    "print(i)\n",
    "i += 1"
   ]
  },
  {
   "cell_type": "markdown",
   "metadata": {},
   "source": [
    "#### 32. Write down the output of each line after each iterations. Do multiple experiments to change values."
   ]
  },
  {
   "cell_type": "code",
   "execution_count": 5,
   "metadata": {},
   "outputs": [
    {
     "name": "stdout",
     "output_type": "stream",
     "text": [
      "a a a a a a "
     ]
    }
   ],
   "source": [
    "x = \"abcdef\"\n",
    "i = \"a\"\n",
    "while i in x:\n",
    "    x = x[:-1]\n",
    "    print(i, end=\" \")"
   ]
  },
  {
   "cell_type": "code",
   "execution_count": 6,
   "metadata": {},
   "outputs": [
    {
     "name": "stdout",
     "output_type": "stream",
     "text": [
      "d\n",
      "c\n",
      "b\n",
      "a\n"
     ]
    }
   ],
   "source": [
    "for i in ''.join(reversed(list('abcd'))):\n",
    "    print (i)\n",
    "    "
   ]
  },
  {
   "cell_type": "markdown",
   "metadata": {},
   "source": [
    "33. **Write down the output of each line after each iterations. Do multiple experiments to change values.**\n",
    "    - for i in ''.join(reversed(list('abcd'))):\n",
    "      - print (i)\n",
    "      - **Answer:**\n",
    "                d\n",
    "                c\n",
    "                b\n",
    "                a "
   ]
  },
  {
   "cell_type": "markdown",
   "metadata": {},
   "source": [
    "#### 34. Flow of the program. Write the output of each line after every iteration of 'i'."
   ]
  },
  {
   "cell_type": "code",
   "execution_count": 14,
   "metadata": {},
   "outputs": [
    {
     "name": "stdout",
     "output_type": "stream",
     "text": [
      "0\n",
      "1\n",
      "2\n",
      "3\n",
      "4\n"
     ]
    }
   ],
   "source": [
    "'''\n",
    "This will break the program at 5th iteration when 'i' == 5 and then print(i). \n",
    "If it doesn't find the if condition 'True' i.e. 'i != 5' then it will execute else statement of 'for' loop \n",
    "i.e. print(\"Here\").\n",
    "'''\n",
    "\n",
    "for i in range(10):\n",
    "    if i == 5:\n",
    "        break\n",
    "    else:\n",
    "        print(i)\n",
    "else:\n",
    "    print(\"Here\")"
   ]
  }
 ],
 "metadata": {
  "kernelspec": {
   "display_name": "Python 3",
   "language": "python",
   "name": "python3"
  },
  "language_info": {
   "codemirror_mode": {
    "name": "ipython",
    "version": 3
   },
   "file_extension": ".py",
   "mimetype": "text/x-python",
   "name": "python",
   "nbconvert_exporter": "python",
   "pygments_lexer": "ipython3",
   "version": "3.7.3"
  }
 },
 "nbformat": 4,
 "nbformat_minor": 2
}
