{
 "cells": [
  {
   "cell_type": "markdown",
   "metadata": {},
   "source": [
    "# Dictionary"
   ]
  },
  {
   "cell_type": "markdown",
   "metadata": {},
   "source": [
    "## List"
   ]
  },
  {
   "cell_type": "code",
   "execution_count": 1,
   "metadata": {},
   "outputs": [
    {
     "data": {
      "text/plain": [
       "[123, 'Zafar', 'AI']"
      ]
     },
     "execution_count": 1,
     "metadata": {},
     "output_type": "execute_result"
    }
   ],
   "source": [
    "#  List[item1, item2, item2]\n",
    "#      0,     1,    2\n",
    "l1 = [123, \"Zafar\",\"AI\"]\n",
    "\n",
    "l1"
   ]
  },
  {
   "cell_type": "code",
   "execution_count": 2,
   "metadata": {},
   "outputs": [
    {
     "data": {
      "text/plain": [
       "{'id': 2,\n",
       " 'name': 'Zafar',\n",
       " 'course': 'AI',\n",
       " 'admission date': '2019-12-15',\n",
       " 'DOB': '09-08-1972'}"
      ]
     },
     "execution_count": 2,
     "metadata": {},
     "output_type": "execute_result"
    }
   ],
   "source": [
    "# dict[item1, item2, item3]\n",
    "\n",
    "#  item = key:value\n",
    "\n",
    "d1 = {'id':2,\n",
    "     'name':'Zafar',\n",
    "     'course':'AI',\n",
    "     'admission date': '2019-12-15',\n",
    "     'DOB':'09-08-1972'}\n",
    "\n",
    "d1"
   ]
  },
  {
   "cell_type": "code",
   "execution_count": 3,
   "metadata": {},
   "outputs": [
    {
     "data": {
      "text/plain": [
       "{'id': 1, 'name': 'Ismail', 'course': 'AI', 'admission date': '2019-12-15'}"
      ]
     },
     "execution_count": 3,
     "metadata": {},
     "output_type": "execute_result"
    }
   ],
   "source": [
    "d1 = {}\n",
    "d1['id']=1\n",
    "d1['name']='Ismail'\n",
    "d1['course']='AI'\n",
    "d1['admission date']='2019-12-15'\n",
    "\n",
    "d1"
   ]
  },
  {
   "cell_type": "code",
   "execution_count": 4,
   "metadata": {},
   "outputs": [
    {
     "name": "stdout",
     "output_type": "stream",
     "text": [
      "Please enter your id: 1\n",
      "Please enter your name: Zafar Abbas\n",
      "Please enter your skills: Python, php, sql\n"
     ]
    },
    {
     "data": {
      "text/plain": [
       "{'user_id': '1', 'name': 'Zafar Abbas', 'skills': ['Python', ' php', ' sql']}"
      ]
     },
     "execution_count": 4,
     "metadata": {},
     "output_type": "execute_result"
    }
   ],
   "source": [
    "information={}\n",
    "\n",
    "information['user_id']=input('Please enter your id: ')\n",
    "information['name']=input('Please enter your name: ')\n",
    "information['skills']=input('Please enter your skills: ').split(',')\n",
    "\n",
    "information"
   ]
  },
  {
   "cell_type": "code",
   "execution_count": 5,
   "metadata": {},
   "outputs": [
    {
     "name": "stdout",
     "output_type": "stream",
     "text": [
      "Enter your ID: 2\n",
      "Enter your name: Ismail\n",
      "Enter your skills with comma seperator: SQL, C#, Java\n"
     ]
    },
    {
     "ename": "KeyError",
     "evalue": "'skills'",
     "output_type": "error",
     "traceback": [
      "\u001b[1;31m---------------------------------------------------------------------------\u001b[0m",
      "\u001b[1;31mKeyError\u001b[0m                                  Traceback (most recent call last)",
      "\u001b[1;32m<ipython-input-5-37166f1ccbef>\u001b[0m in \u001b[0;36m<module>\u001b[1;34m\u001b[0m\n\u001b[0;32m      8\u001b[0m \u001b[1;33m\u001b[0m\u001b[0m\n\u001b[0;32m      9\u001b[0m \u001b[0mskills\u001b[0m \u001b[1;33m=\u001b[0m \u001b[0minput\u001b[0m\u001b[1;33m(\u001b[0m\u001b[1;34m'Enter your skills with comma seperator: '\u001b[0m\u001b[1;33m)\u001b[0m\u001b[1;33m\u001b[0m\u001b[1;33m\u001b[0m\u001b[0m\n\u001b[1;32m---> 10\u001b[1;33m \u001b[0minfo2\u001b[0m\u001b[1;33m[\u001b[0m\u001b[1;34m'skills'\u001b[0m\u001b[1;33m]\u001b[0m \u001b[1;33m=\u001b[0m \u001b[0minfo2\u001b[0m\u001b[1;33m[\u001b[0m\u001b[1;34m'skills'\u001b[0m\u001b[1;33m]\u001b[0m \u001b[1;33m+\u001b[0m \u001b[0mskills\u001b[0m\u001b[1;33m.\u001b[0m\u001b[0msplit\u001b[0m\u001b[1;33m(\u001b[0m\u001b[1;34m','\u001b[0m\u001b[1;33m)\u001b[0m\u001b[1;33m\u001b[0m\u001b[1;33m\u001b[0m\u001b[0m\n\u001b[0m\u001b[0;32m     11\u001b[0m \u001b[1;33m\u001b[0m\u001b[0m\n\u001b[0;32m     12\u001b[0m \u001b[0minfo2\u001b[0m\u001b[1;33m\u001b[0m\u001b[1;33m\u001b[0m\u001b[0m\n",
      "\u001b[1;31mKeyError\u001b[0m: 'skills'"
     ]
    }
   ],
   "source": [
    "info2 = {}\n",
    "\n",
    "user_id = input('Enter your ID: ')\n",
    "info2['id'] = user_id\n",
    "\n",
    "name = input('Enter your name: ')\n",
    "info2['name'] = name\n",
    "\n",
    "skills = input('Enter your skills with comma seperator: ')\n",
    "info2['skills'] = info2['skills'] + skills.split(',')\n",
    "               \n",
    "info2"
   ]
  },
  {
   "cell_type": "code",
   "execution_count": 6,
   "metadata": {},
   "outputs": [
    {
     "data": {
      "text/plain": [
       "{'id': 2,\n",
       " 'name': 'Zafar',\n",
       " 'course': 'AI',\n",
       " 'admission date': '2019-12-15',\n",
       " 'DOB': '09-08-1972'}"
      ]
     },
     "execution_count": 6,
     "metadata": {},
     "output_type": "execute_result"
    }
   ],
   "source": [
    "d1 = {'id':2,\n",
    "     'name':'Zafar',\n",
    "     'course':'AI',\n",
    "     'admission date': '2019-12-15',\n",
    "     'DOB':'09-08-1972'}\n",
    "\n",
    "d1"
   ]
  },
  {
   "cell_type": "code",
   "execution_count": 7,
   "metadata": {},
   "outputs": [
    {
     "data": {
      "text/plain": [
       "'AI'"
      ]
     },
     "execution_count": 7,
     "metadata": {},
     "output_type": "execute_result"
    }
   ],
   "source": [
    "# extracting data from dict\n",
    "\n",
    "d1['course']"
   ]
  },
  {
   "cell_type": "code",
   "execution_count": 8,
   "metadata": {},
   "outputs": [
    {
     "data": {
      "text/plain": [
       "{'id': 2,\n",
       " 'name': 'Zafar',\n",
       " 'course': 'AI',\n",
       " 'admission date': '2019-12-15',\n",
       " 'DOB': '09-08-1972'}"
      ]
     },
     "execution_count": 8,
     "metadata": {},
     "output_type": "execute_result"
    }
   ],
   "source": [
    "d1"
   ]
  },
  {
   "cell_type": "markdown",
   "metadata": {},
   "source": [
    "### Clear"
   ]
  },
  {
   "cell_type": "code",
   "execution_count": null,
   "metadata": {},
   "outputs": [],
   "source": [
    "# this clears all contents of dict\n",
    "\n",
    "d1.clear()"
   ]
  },
  {
   "cell_type": "code",
   "execution_count": null,
   "metadata": {},
   "outputs": [],
   "source": [
    "# now dict is empty\n",
    "\n",
    "d1"
   ]
  },
  {
   "cell_type": "markdown",
   "metadata": {},
   "source": [
    "###  Copy"
   ]
  },
  {
   "cell_type": "code",
   "execution_count": 9,
   "metadata": {},
   "outputs": [
    {
     "name": "stdout",
     "output_type": "stream",
     "text": [
      "{'id': 2, 'name': 'Zafar', 'course': 'AI', 'admission date': '2019-12-15', 'DOB': '09-08-1972'}\n",
      "{'id': 2, 'name': 'Zafar', 'course': 'AI', 'admission date': '2019-12-15', 'DOB': '09-08-1972'}\n"
     ]
    }
   ],
   "source": [
    "d1 = {'id':2,\n",
    "     'name':'Zafar',\n",
    "     'course':'AI',\n",
    "     'admission date': '2019-12-15',\n",
    "     'DOB':'09-08-1972'}\n",
    "\n",
    "d2 = d1.copy()     # this will make a deep copy, will copy contents rather than addresses\n",
    "print(d1)\n",
    "print(d2)"
   ]
  },
  {
   "cell_type": "code",
   "execution_count": 10,
   "metadata": {},
   "outputs": [
    {
     "name": "stdout",
     "output_type": "stream",
     "text": [
      "{'id': 2, 'name': 'Ismail', 'course': 'IoT', 'admission date': '2019-12-15', 'DOB': '09-08-1972'}\n",
      "{'id': 2, 'name': 'Zafar', 'course': 'AI', 'admission date': '2019-12-15', 'DOB': '09-08-1972'}\n"
     ]
    }
   ],
   "source": [
    "d2['course'] = 'IoT'\n",
    "d2['name'] = 'Ismail'\n",
    "print(d2)\n",
    "print(d1)"
   ]
  },
  {
   "cell_type": "code",
   "execution_count": 11,
   "metadata": {},
   "outputs": [
    {
     "data": {
      "text/plain": [
       "{'id': 'NA', 'name': 'NA', 'course': 'NA'}"
      ]
     },
     "execution_count": 11,
     "metadata": {},
     "output_type": "execute_result"
    }
   ],
   "source": [
    "d1 = {}\n",
    "\n",
    "d1['id']='NA'\n",
    "d1['name']='NA'\n",
    "d1['course']='NA'\n",
    "\n",
    "d1"
   ]
  },
  {
   "cell_type": "code",
   "execution_count": 12,
   "metadata": {},
   "outputs": [
    {
     "name": "stdout",
     "output_type": "stream",
     "text": [
      "['id', 'name', 'course', 'timing', 'address', 'DOB']\n",
      "{'id': None, 'name': None, 'course': None, 'timing': None, 'address': None, 'DOB': None}\n"
     ]
    }
   ],
   "source": [
    "l1 = ['id','name','course','timing','address','DOB']\n",
    "\n",
    "print(l1)\n",
    "\n",
    "d1 = dict.fromkeys(l1)\n",
    "print(d1)"
   ]
  },
  {
   "cell_type": "code",
   "execution_count": 13,
   "metadata": {},
   "outputs": [
    {
     "name": "stdout",
     "output_type": "stream",
     "text": [
      "Please enter your keys (comma seperated): id, fname, lname, course, skills\n",
      "{'id': 'Nill', ' fname': 'Nill', ' lname': 'Nill', ' course': 'Nill', ' skills': 'Nill'}\n"
     ]
    }
   ],
   "source": [
    "keys = input('Please enter your keys (comma seperated): ').split(',')\n",
    "\n",
    "d1 = dict.fromkeys(keys,'Nill')\n",
    "print(d1)\n"
   ]
  },
  {
   "cell_type": "code",
   "execution_count": 17,
   "metadata": {},
   "outputs": [
    {
     "name": "stdout",
     "output_type": "stream",
     "text": [
      "Please enter keys (comma separated): id, name, fname, course, shift\n",
      "Please enter values (comma separated): 12345, Zafar, Ghulam Shah, AI, Evening\n"
     ]
    },
    {
     "ename": "TypeError",
     "evalue": "descriptor 'values' requires a 'dict' object but received a 'list'",
     "output_type": "error",
     "traceback": [
      "\u001b[1;31m---------------------------------------------------------------------------\u001b[0m",
      "\u001b[1;31mTypeError\u001b[0m                                 Traceback (most recent call last)",
      "\u001b[1;32m<ipython-input-17-c6f5c39ead04>\u001b[0m in \u001b[0;36m<module>\u001b[1;34m\u001b[0m\n\u001b[0;32m      7\u001b[0m     \u001b[0mdict1\u001b[0m \u001b[1;33m=\u001b[0m \u001b[0mdict\u001b[0m\u001b[1;33m.\u001b[0m\u001b[0mfromkeys\u001b[0m\u001b[1;33m(\u001b[0m\u001b[0mkey\u001b[0m\u001b[1;33m)\u001b[0m\u001b[1;33m\u001b[0m\u001b[1;33m\u001b[0m\u001b[0m\n\u001b[0;32m      8\u001b[0m \u001b[1;33m\u001b[0m\u001b[0m\n\u001b[1;32m----> 9\u001b[1;33m     \u001b[0mdict1\u001b[0m \u001b[1;33m=\u001b[0m \u001b[0mdict\u001b[0m\u001b[1;33m.\u001b[0m\u001b[0mvalues\u001b[0m\u001b[1;33m(\u001b[0m\u001b[0mvalue\u001b[0m\u001b[1;33m)\u001b[0m\u001b[1;33m\u001b[0m\u001b[1;33m\u001b[0m\u001b[0m\n\u001b[0m\u001b[0;32m     10\u001b[0m \u001b[1;33m\u001b[0m\u001b[0m\n\u001b[0;32m     11\u001b[0m \u001b[0mprint\u001b[0m\u001b[1;33m(\u001b[0m\u001b[0mdict1\u001b[0m\u001b[1;33m)\u001b[0m\u001b[1;33m\u001b[0m\u001b[1;33m\u001b[0m\u001b[0m\n",
      "\u001b[1;31mTypeError\u001b[0m: descriptor 'values' requires a 'dict' object but received a 'list'"
     ]
    }
   ],
   "source": [
    "key = input('Please enter keys (comma separated): ').split(',')\n",
    "\n",
    "value = input('Please enter values (comma separated): ').split(',')\n",
    "\n",
    "if len(key) == len(value):\n",
    "    dict1 = {}\n",
    "    dict1 = dict.fromkeys(key)\n",
    "    \n",
    "    dict1 = dict.values(value)\n",
    "\n",
    "print(dict1)"
   ]
  },
  {
   "cell_type": "code",
   "execution_count": 15,
   "metadata": {},
   "outputs": [
    {
     "name": "stdout",
     "output_type": "stream",
     "text": [
      "[('a', 'x'), ('b', 'y'), ('c', 'z')]\n"
     ]
    }
   ],
   "source": [
    "l1 = ['a','b','c']\n",
    "l2 = ['x','y','z']\n",
    "\n",
    "l3 = list(zip(l1,l2))\n",
    "\n",
    "dict1 = dict(l3)\n",
    "\n",
    "print(l3)"
   ]
  },
  {
   "cell_type": "code",
   "execution_count": 16,
   "metadata": {},
   "outputs": [
    {
     "name": "stdout",
     "output_type": "stream",
     "text": [
      "Please enter keys: id, name, course, timing\n",
      "Please enter values: 123, Zafar, AI, Morning\n",
      "[('id', '123'), (' name', ' Zafar'), (' course', ' AI'), (' timing', ' Morning')]\n"
     ]
    }
   ],
   "source": [
    "l1 = input('Please enter keys: ').split(',')\n",
    "\n",
    "l2 = input('Please enter values: ').split(',')\n",
    "           \n",
    "\n",
    "l3 = list(zip(l1,l2))\n",
    "\n",
    "dict1 = dict(l3)\n",
    "\n",
    "print(l3)"
   ]
  },
  {
   "cell_type": "markdown",
   "metadata": {},
   "source": [
    "### get Function"
   ]
  },
  {
   "cell_type": "code",
   "execution_count": 20,
   "metadata": {},
   "outputs": [
    {
     "ename": "KeyError",
     "evalue": "'a'",
     "output_type": "error",
     "traceback": [
      "\u001b[1;31m---------------------------------------------------------------------------\u001b[0m",
      "\u001b[1;31mKeyError\u001b[0m                                  Traceback (most recent call last)",
      "\u001b[1;32m<ipython-input-20-bb40f86e9cc7>\u001b[0m in \u001b[0;36m<module>\u001b[1;34m\u001b[0m\n\u001b[1;32m----> 1\u001b[1;33m \u001b[0mdict1\u001b[0m\u001b[1;33m[\u001b[0m\u001b[1;34m'a'\u001b[0m\u001b[1;33m]\u001b[0m\u001b[1;33m\u001b[0m\u001b[1;33m\u001b[0m\u001b[0m\n\u001b[0m\u001b[0;32m      2\u001b[0m \u001b[0mdict1\u001b[0m\u001b[1;33m[\u001b[0m\u001b[1;34m'z'\u001b[0m\u001b[1;33m]\u001b[0m    \u001b[1;31m# key is not available therefore, generates error\u001b[0m\u001b[1;33m\u001b[0m\u001b[1;33m\u001b[0m\u001b[0m\n",
      "\u001b[1;31mKeyError\u001b[0m: 'a'"
     ]
    }
   ],
   "source": [
    "dict1['a']\n",
    "dict1['z']    # key is not available therefore, generates error"
   ]
  },
  {
   "cell_type": "code",
   "execution_count": 21,
   "metadata": {},
   "outputs": [
    {
     "name": "stdout",
     "output_type": "stream",
     "text": [
      "None\n"
     ]
    }
   ],
   "source": [
    "print(dict1.get('a'))"
   ]
  },
  {
   "cell_type": "code",
   "execution_count": 19,
   "metadata": {},
   "outputs": [
    {
     "name": "stdout",
     "output_type": "stream",
     "text": [
      "None\n",
      "Value is not available\n",
      "Value is not available\n"
     ]
    }
   ],
   "source": [
    "# if key available then extact it, otherwise, will not be generated\n",
    "\n",
    "print(dict1.get('z'))\n",
    "\n",
    "print(dict1.get('a','Value is not available'))   #user defined error message\n",
    "\n",
    "print(dict1.get('h','Value is not available'))   #user defined error message"
   ]
  },
  {
   "cell_type": "markdown",
   "metadata": {},
   "source": [
    "### Item Function"
   ]
  },
  {
   "cell_type": "code",
   "execution_count": 18,
   "metadata": {},
   "outputs": [
    {
     "data": {
      "text/plain": [
       "dict_items([('id', None), (' name', None), (' fname', None), (' course', None), (' shift', None)])"
      ]
     },
     "execution_count": 18,
     "metadata": {},
     "output_type": "execute_result"
    }
   ],
   "source": [
    "# it returns list of tuples from values of dictionary\n",
    "\n",
    "dict1.items()"
   ]
  },
  {
   "cell_type": "markdown",
   "metadata": {},
   "source": [
    "### Key Function"
   ]
  },
  {
   "cell_type": "code",
   "execution_count": 22,
   "metadata": {},
   "outputs": [
    {
     "name": "stdout",
     "output_type": "stream",
     "text": [
      "{'id': None, ' name': None, ' fname': None, ' course': None, ' shift': None}\n"
     ]
    },
    {
     "data": {
      "text/plain": [
       "dict_keys(['id', ' fname', ' lname', ' course', ' skills'])"
      ]
     },
     "execution_count": 22,
     "metadata": {},
     "output_type": "execute_result"
    }
   ],
   "source": [
    "print(dict1)\n",
    "d1.keys()"
   ]
  },
  {
   "cell_type": "markdown",
   "metadata": {},
   "source": [
    "### Value Function"
   ]
  },
  {
   "cell_type": "code",
   "execution_count": 23,
   "metadata": {},
   "outputs": [
    {
     "name": "stdout",
     "output_type": "stream",
     "text": [
      "{'id': None, ' name': None, ' fname': None, ' course': None, ' shift': None}\n"
     ]
    },
    {
     "data": {
      "text/plain": [
       "dict_values([None, None, None, None, None])"
      ]
     },
     "execution_count": 23,
     "metadata": {},
     "output_type": "execute_result"
    }
   ],
   "source": [
    "print(dict1)\n",
    "dict1.values()"
   ]
  },
  {
   "cell_type": "markdown",
   "metadata": {},
   "source": [
    "### Pop Function"
   ]
  },
  {
   "cell_type": "code",
   "execution_count": 24,
   "metadata": {},
   "outputs": [
    {
     "name": "stdout",
     "output_type": "stream",
     "text": [
      "{'id': None, ' name': None, ' fname': None, ' course': None, ' shift': None}\n"
     ]
    },
    {
     "ename": "KeyError",
     "evalue": "'a'",
     "output_type": "error",
     "traceback": [
      "\u001b[1;31m---------------------------------------------------------------------------\u001b[0m",
      "\u001b[1;31mKeyError\u001b[0m                                  Traceback (most recent call last)",
      "\u001b[1;32m<ipython-input-24-b9499d4fa3aa>\u001b[0m in \u001b[0;36m<module>\u001b[1;34m\u001b[0m\n\u001b[0;32m      1\u001b[0m \u001b[0mprint\u001b[0m\u001b[1;33m(\u001b[0m\u001b[0mdict1\u001b[0m\u001b[1;33m)\u001b[0m\u001b[1;33m\u001b[0m\u001b[1;33m\u001b[0m\u001b[0m\n\u001b[0;32m      2\u001b[0m \u001b[1;33m\u001b[0m\u001b[0m\n\u001b[1;32m----> 3\u001b[1;33m \u001b[0mdict1\u001b[0m\u001b[1;33m.\u001b[0m\u001b[0mpop\u001b[0m\u001b[1;33m(\u001b[0m\u001b[1;34m'a'\u001b[0m\u001b[1;33m)\u001b[0m  \u001b[1;31m# will remove 'a'\u001b[0m\u001b[1;33m\u001b[0m\u001b[1;33m\u001b[0m\u001b[0m\n\u001b[0m\u001b[0;32m      4\u001b[0m \u001b[1;33m\u001b[0m\u001b[0m\n\u001b[0;32m      5\u001b[0m \u001b[0mprint\u001b[0m\u001b[1;33m(\u001b[0m\u001b[0mdict1\u001b[0m\u001b[1;33m)\u001b[0m\u001b[1;33m\u001b[0m\u001b[1;33m\u001b[0m\u001b[0m\n",
      "\u001b[1;31mKeyError\u001b[0m: 'a'"
     ]
    }
   ],
   "source": [
    "print(dict1)\n",
    "\n",
    "dict1.pop('a')  # will remove 'a'\n",
    "\n",
    "print(dict1)"
   ]
  },
  {
   "cell_type": "markdown",
   "metadata": {},
   "source": [
    "###  Popitem Function"
   ]
  },
  {
   "cell_type": "code",
   "execution_count": 25,
   "metadata": {},
   "outputs": [
    {
     "name": "stdout",
     "output_type": "stream",
     "text": [
      "{'id': None, ' name': None, ' fname': None, ' course': None, ' shift': None}\n",
      "(' shift', None)\n",
      "{'id': None, ' name': None, ' fname': None, ' course': None}\n"
     ]
    }
   ],
   "source": [
    "print(dict1)\n",
    "\n",
    "print(dict1.popitem())\n",
    "\n",
    "print(dict1)\n"
   ]
  },
  {
   "cell_type": "markdown",
   "metadata": {},
   "source": [
    "### Setdefault Function"
   ]
  },
  {
   "cell_type": "code",
   "execution_count": 26,
   "metadata": {},
   "outputs": [
    {
     "name": "stdout",
     "output_type": "stream",
     "text": [
      "{'id': None, ' name': None, ' fname': None, ' course': None}\n",
      "xyz\n",
      "{'id': None, ' name': None, ' fname': None, ' course': None, 'abc1': 'xyz'}\n"
     ]
    }
   ],
   "source": [
    "print(dict1)\n",
    "print(dict1.setdefault('abc1','xyz'))\n",
    "print(dict1)"
   ]
  },
  {
   "cell_type": "code",
   "execution_count": 27,
   "metadata": {},
   "outputs": [
    {
     "name": "stdout",
     "output_type": "stream",
     "text": [
      "{'id': None, ' name': None, ' fname': None, ' course': None, 'abc1': 'Pakistan'}\n"
     ]
    }
   ],
   "source": [
    "dict1['abc1']='Pakistan'\n",
    "print(dict1)"
   ]
  },
  {
   "cell_type": "markdown",
   "metadata": {},
   "source": [
    "### Update Function"
   ]
  },
  {
   "cell_type": "code",
   "execution_count": 28,
   "metadata": {},
   "outputs": [
    {
     "data": {
      "text/plain": [
       "{'a': 'AAAA', 'b': 'BB', 'c': 'CCCC'}"
      ]
     },
     "execution_count": 28,
     "metadata": {},
     "output_type": "execute_result"
    }
   ],
   "source": [
    "dict2 = {'a':'AA','b':'BB'}\n",
    "\n",
    "dict3 = {'a':'AAAA','c':'CCCC'}\n",
    "\n",
    "dict2.update(dict3)\n",
    "\n",
    "dict2"
   ]
  },
  {
   "cell_type": "code",
   "execution_count": 29,
   "metadata": {},
   "outputs": [
    {
     "name": "stdout",
     "output_type": "stream",
     "text": [
      "f 6\n",
      "e 5\n",
      "d 4\n",
      "c 3\n",
      "b 2\n",
      "a 1\n"
     ]
    }
   ],
   "source": [
    "dict4={'a':1, 'b':2, 'c':3, 'd':4, 'e':5, 'f':6}\n",
    "\n",
    "for i,j in sorted(dict4.items(),reverse=True):\n",
    "    print(i,j)\n",
    "#     print(j,i)"
   ]
  },
  {
   "cell_type": "code",
   "execution_count": 30,
   "metadata": {},
   "outputs": [
    {
     "ename": "TypeError",
     "evalue": "cannot unpack non-iterable int object",
     "output_type": "error",
     "traceback": [
      "\u001b[1;31m---------------------------------------------------------------------------\u001b[0m",
      "\u001b[1;31mTypeError\u001b[0m                                 Traceback (most recent call last)",
      "\u001b[1;32m<ipython-input-30-2760d0134052>\u001b[0m in \u001b[0;36m<module>\u001b[1;34m\u001b[0m\n\u001b[0;32m      1\u001b[0m \u001b[0mdict4\u001b[0m\u001b[1;33m=\u001b[0m\u001b[1;33m{\u001b[0m\u001b[1;34m'a'\u001b[0m\u001b[1;33m:\u001b[0m\u001b[1;36m1\u001b[0m\u001b[1;33m,\u001b[0m \u001b[1;34m'b'\u001b[0m\u001b[1;33m:\u001b[0m\u001b[1;36m2\u001b[0m\u001b[1;33m,\u001b[0m \u001b[1;34m'c'\u001b[0m\u001b[1;33m:\u001b[0m\u001b[1;36m8\u001b[0m\u001b[1;33m,\u001b[0m \u001b[1;34m'd'\u001b[0m\u001b[1;33m:\u001b[0m\u001b[1;36m4\u001b[0m\u001b[1;33m,\u001b[0m \u001b[1;34m'e'\u001b[0m\u001b[1;33m:\u001b[0m\u001b[1;36m5\u001b[0m\u001b[1;33m,\u001b[0m \u001b[1;34m'f'\u001b[0m\u001b[1;33m:\u001b[0m\u001b[1;36m6\u001b[0m\u001b[1;33m}\u001b[0m\u001b[1;33m\u001b[0m\u001b[1;33m\u001b[0m\u001b[0m\n\u001b[0;32m      2\u001b[0m \u001b[1;33m\u001b[0m\u001b[0m\n\u001b[1;32m----> 3\u001b[1;33m \u001b[1;32mfor\u001b[0m \u001b[0mi\u001b[0m\u001b[1;33m,\u001b[0m\u001b[0mj\u001b[0m \u001b[1;32min\u001b[0m \u001b[0msorted\u001b[0m\u001b[1;33m(\u001b[0m\u001b[0mdict4\u001b[0m\u001b[1;33m.\u001b[0m\u001b[0mvalues\u001b[0m\u001b[1;33m(\u001b[0m\u001b[1;33m)\u001b[0m\u001b[1;33m,\u001b[0m\u001b[0mreverse\u001b[0m\u001b[1;33m=\u001b[0m\u001b[1;32mTrue\u001b[0m\u001b[1;33m)\u001b[0m\u001b[1;33m:\u001b[0m\u001b[1;33m\u001b[0m\u001b[1;33m\u001b[0m\u001b[0m\n\u001b[0m\u001b[0;32m      4\u001b[0m     \u001b[0mprint\u001b[0m\u001b[1;33m(\u001b[0m\u001b[0mj\u001b[0m\u001b[1;33m,\u001b[0m\u001b[0mi\u001b[0m\u001b[1;33m)\u001b[0m\u001b[1;33m\u001b[0m\u001b[1;33m\u001b[0m\u001b[0m\n",
      "\u001b[1;31mTypeError\u001b[0m: cannot unpack non-iterable int object"
     ]
    }
   ],
   "source": [
    "dict4={'a':1, 'b':2, 'c':8, 'd':4, 'e':5, 'f':6}\n",
    "\n",
    "for i,j in sorted(dict4.values(),reverse=True):\n",
    "    print(j,i)\n"
   ]
  },
  {
   "cell_type": "code",
   "execution_count": 31,
   "metadata": {},
   "outputs": [
    {
     "ename": "SyntaxError",
     "evalue": "invalid syntax (<ipython-input-31-f00d22fcfd5f>, line 1)",
     "output_type": "error",
     "traceback": [
      "\u001b[1;36m  File \u001b[1;32m\"<ipython-input-31-f00d22fcfd5f>\"\u001b[1;36m, line \u001b[1;32m1\u001b[0m\n\u001b[1;33m    k:v for k,v in sorted(d1.items(), key=lambda item: items1)\u001b[0m\n\u001b[1;37m          ^\u001b[0m\n\u001b[1;31mSyntaxError\u001b[0m\u001b[1;31m:\u001b[0m invalid syntax\n"
     ]
    }
   ],
   "source": [
    "k:v for k,v in sorted(d1.items(), key=lambda item: items1)"
   ]
  },
  {
   "cell_type": "code",
   "execution_count": 33,
   "metadata": {},
   "outputs": [],
   "source": [
    "l5=[('A',0,'z'),\n",
    "('C',1,'y'),\n",
    "('B',3,'x')]"
   ]
  },
  {
   "cell_type": "code",
   "execution_count": 34,
   "metadata": {},
   "outputs": [
    {
     "ename": "SyntaxError",
     "evalue": "invalid syntax (<ipython-input-34-30d5a6a4249f>, line 2)",
     "output_type": "error",
     "traceback": [
      "\u001b[1;36m  File \u001b[1;32m\"<ipython-input-34-30d5a6a4249f>\"\u001b[1;36m, line \u001b[1;32m2\u001b[0m\n\u001b[1;33m    return x[1])\u001b[0m\n\u001b[1;37m               ^\u001b[0m\n\u001b[1;31mSyntaxError\u001b[0m\u001b[1;31m:\u001b[0m invalid syntax\n"
     ]
    }
   ],
   "source": [
    "def abc(x):\n",
    "    return x[1])\n",
    "    \n",
    "sorted(l5, key=abc)"
   ]
  },
  {
   "cell_type": "code",
   "execution_count": 35,
   "metadata": {},
   "outputs": [
    {
     "name": "stdout",
     "output_type": "stream",
     "text": [
      "Please enter your id: 123\n",
      "Please enter your name: Zafar Abbas\n",
      "Please enter your skills: Python, SQL, PHP, C#\n",
      "Please enter x to exit: 125\n",
      "Please enter your id: Ismail\n",
      "Please enter your name: Ismail\n",
      "Please enter your skills: C#, SQL, PHP, Java\n",
      "Please enter x to exit: x\n"
     ]
    },
    {
     "data": {
      "text/plain": [
       "[{'user_id': '123',\n",
       "  'name': 'Zafar Abbas',\n",
       "  'skills': ['Python', ' SQL', ' PHP', ' C#']},\n",
       " {'user_id': 'Ismail',\n",
       "  'name': 'Ismail',\n",
       "  'skills': ['C#', ' SQL', ' PHP', ' Java']}]"
      ]
     },
     "execution_count": 35,
     "metadata": {},
     "output_type": "execute_result"
    }
   ],
   "source": [
    "list5 = []\n",
    "\n",
    "x = ''\n",
    "\n",
    "while x != 'x':\n",
    "    stdData = {}\n",
    "    stdData['user_id']=input('Please enter your id: ')\n",
    "    stdData['name']=input('Please enter your name: ')\n",
    "    stdData['skills']=input('Please enter your skills: ').split(',')    \n",
    "    list5.append(stdData)\n",
    "    x=input(\"Please enter x to exit: \")\n",
    "\n",
    "list5"
   ]
  },
  {
   "cell_type": "code",
   "execution_count": null,
   "metadata": {},
   "outputs": [],
   "source": []
  },
  {
   "cell_type": "code",
   "execution_count": null,
   "metadata": {},
   "outputs": [],
   "source": []
  }
 ],
 "metadata": {
  "kernelspec": {
   "display_name": "Python 3",
   "language": "python",
   "name": "python3"
  },
  "language_info": {
   "codemirror_mode": {
    "name": "ipython",
    "version": 3
   },
   "file_extension": ".py",
   "mimetype": "text/x-python",
   "name": "python",
   "nbconvert_exporter": "python",
   "pygments_lexer": "ipython3",
   "version": "3.7.3"
  }
 },
 "nbformat": 4,
 "nbformat_minor": 2
}
