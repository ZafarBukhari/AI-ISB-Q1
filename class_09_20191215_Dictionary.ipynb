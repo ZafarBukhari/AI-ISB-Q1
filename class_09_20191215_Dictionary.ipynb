{
 "cells": [
  {
   "cell_type": "markdown",
   "metadata": {},
   "source": [
    "# Dictionary"
   ]
  },
  {
   "cell_type": "markdown",
   "metadata": {},
   "source": [
    "## List"
   ]
  },
  {
   "cell_type": "code",
   "execution_count": 1,
   "metadata": {},
   "outputs": [
    {
     "data": {
      "text/plain": [
       "[123, 'Zafar', 'AI']"
      ]
     },
     "execution_count": 1,
     "metadata": {},
     "output_type": "execute_result"
    }
   ],
   "source": [
    "#  List[item1, item2, item2]\n",
    "#      0,     1,    2\n",
    "l1 = [123, \"Zafar\",\"AI\"]\n",
    "\n",
    "l1"
   ]
  },
  {
   "cell_type": "code",
   "execution_count": 2,
   "metadata": {},
   "outputs": [
    {
     "data": {
      "text/plain": [
       "{'id': 2,\n",
       " 'name': 'Zafar',\n",
       " 'course': 'AI',\n",
       " 'admission date': '2019-12-15',\n",
       " 'DOB': '09-08-1972'}"
      ]
     },
     "execution_count": 2,
     "metadata": {},
     "output_type": "execute_result"
    }
   ],
   "source": [
    "# dict[item1, item2, item3]\n",
    "\n",
    "#  item = key:value\n",
    "\n",
    "d1 = {'id':2,\n",
    "     'name':'Zafar',\n",
    "     'course':'AI',\n",
    "     'admission date': '2019-12-15',\n",
    "     'DOB':'09-08-1972'}\n",
    "\n",
    "d1"
   ]
  },
  {
   "cell_type": "code",
   "execution_count": 3,
   "metadata": {},
   "outputs": [
    {
     "data": {
      "text/plain": [
       "{'id': 1, 'name': 'Ismail', 'course': 'AI', 'admission date': '2019-12-15'}"
      ]
     },
     "execution_count": 3,
     "metadata": {},
     "output_type": "execute_result"
    }
   ],
   "source": [
    "d1 = {}\n",
    "d1['id']=1\n",
    "d1['name']='Ismail'\n",
    "d1['course']='AI'\n",
    "d1['admission date']='2019-12-15'\n",
    "\n",
    "d1"
   ]
  },
  {
   "cell_type": "code",
   "execution_count": null,
   "metadata": {},
   "outputs": [],
   "source": [
    "information={}\n",
    "\n",
    "information['user_id']=input('Please enter your id: ')\n",
    "information['name']=input('Please enter your name: ')\n",
    "information['skills']=input('Please enter your skills: ').split(',')\n",
    "\n",
    "information"
   ]
  },
  {
   "cell_type": "code",
   "execution_count": null,
   "metadata": {},
   "outputs": [],
   "source": [
    "info2 = {}\n",
    "\n",
    "user_id = input('Enter your ID: ')\n",
    "info2['id'] = user_id\n",
    "\n",
    "name = input('Enter your name: ')\n",
    "info2['name'] = name\n",
    "\n",
    "skills = input('Enter your skills with comma seperator: ')\n",
    "info2['skills'] = info2['skills'] + skills.split(',')\n",
    "               \n",
    "info2"
   ]
  },
  {
   "cell_type": "code",
   "execution_count": null,
   "metadata": {},
   "outputs": [],
   "source": [
    "d1 = {'id':2,\n",
    "     'name':'Zafar',\n",
    "     'course':'AI',\n",
    "     'admission date': '2019-12-15',\n",
    "     'DOB':'09-08-1972'}\n",
    "\n",
    "d1"
   ]
  },
  {
   "cell_type": "code",
   "execution_count": null,
   "metadata": {},
   "outputs": [],
   "source": [
    "# extracting data from dict\n",
    "\n",
    "d1['course']"
   ]
  },
  {
   "cell_type": "code",
   "execution_count": null,
   "metadata": {},
   "outputs": [],
   "source": [
    "d1"
   ]
  },
  {
   "cell_type": "markdown",
   "metadata": {},
   "source": [
    "### Clear"
   ]
  },
  {
   "cell_type": "code",
   "execution_count": null,
   "metadata": {},
   "outputs": [],
   "source": [
    "# this clears all contents of dict\n",
    "\n",
    "d1.clear()"
   ]
  },
  {
   "cell_type": "code",
   "execution_count": null,
   "metadata": {},
   "outputs": [],
   "source": [
    "# now dict is empty\n",
    "\n",
    "d1"
   ]
  },
  {
   "cell_type": "markdown",
   "metadata": {},
   "source": [
    "###  Copy"
   ]
  },
  {
   "cell_type": "code",
   "execution_count": null,
   "metadata": {},
   "outputs": [],
   "source": [
    "d1 = {'id':2,\n",
    "     'name':'Zafar',\n",
    "     'course':'AI',\n",
    "     'admission date': '2019-12-15',\n",
    "     'DOB':'09-08-1972'}\n",
    "\n",
    "d2 = d1.copy()     # this will make a deep copy, will copy contents rather than addresses\n",
    "print(d1)\n",
    "print(d2)"
   ]
  },
  {
   "cell_type": "code",
   "execution_count": null,
   "metadata": {},
   "outputs": [],
   "source": [
    "d2['course'] = 'IoT'\n",
    "d2['name'] = 'Ismail'\n",
    "print(d2)\n",
    "print(d1)"
   ]
  },
  {
   "cell_type": "code",
   "execution_count": null,
   "metadata": {},
   "outputs": [],
   "source": [
    "d1 = {}\n",
    "\n",
    "d1['id']='NA'\n",
    "d1['name']='NA'\n",
    "d1['course']='NA'\n",
    "\n",
    "d1"
   ]
  },
  {
   "cell_type": "code",
   "execution_count": null,
   "metadata": {},
   "outputs": [],
   "source": [
    "l1 = ['id','name','course','timing','address','DOB']\n",
    "\n",
    "print(l1)\n",
    "\n",
    "d1 = dict.fromkeys(l1)\n",
    "print(d1)"
   ]
  },
  {
   "cell_type": "code",
   "execution_count": null,
   "metadata": {},
   "outputs": [],
   "source": [
    "keys = input('Please enter your keys (comma seperated): ').split(',')\n",
    "\n",
    "d1 = dict.fromkeys(keys,'Nill')\n",
    "print(d1)\n"
   ]
  },
  {
   "cell_type": "code",
   "execution_count": null,
   "metadata": {},
   "outputs": [],
   "source": [
    "key = input('Please enter keys (comma separated): ').split(',')\n",
    "\n",
    "value = input('Please enter values (comma separated): ').split(',')\n",
    "\n",
    "if len(key) == len(value):\n",
    "    dict1 = dict.fromkeys(key)\n",
    "    \n",
    "    dict1 = dict.values(value)\n",
    "\n",
    "print(dict1)"
   ]
  },
  {
   "cell_type": "code",
   "execution_count": null,
   "metadata": {},
   "outputs": [],
   "source": [
    "l1 = ['a','b','c']\n",
    "l2 = ['x','y','z']\n",
    "\n",
    "l3 = list(zip(l1,l2))\n",
    "\n",
    "dict1 = dict(l3)\n",
    "\n",
    "print(l3)"
   ]
  },
  {
   "cell_type": "code",
   "execution_count": null,
   "metadata": {},
   "outputs": [],
   "source": [
    "l1 = input('Please enter keys: ').split(',')\n",
    "\n",
    "l2 = input('Please enter values: ').split(',')\n",
    "           \n",
    "\n",
    "l3 = list(zip(l1,l2))\n",
    "\n",
    "dict1 = dict(l3)\n",
    "\n",
    "print(l3)"
   ]
  },
  {
   "cell_type": "markdown",
   "metadata": {},
   "source": [
    "### get Function"
   ]
  },
  {
   "cell_type": "code",
   "execution_count": null,
   "metadata": {},
   "outputs": [],
   "source": [
    "dict1['a']\n",
    "dict1['z']    # key is not available therefore, generates error"
   ]
  },
  {
   "cell_type": "code",
   "execution_count": null,
   "metadata": {},
   "outputs": [],
   "source": [
    "print(dict1.get('a'))"
   ]
  },
  {
   "cell_type": "code",
   "execution_count": null,
   "metadata": {},
   "outputs": [],
   "source": [
    "# if key available then extact it, otherwise, will not be generated\n",
    "\n",
    "print(dict1.get('z'))\n",
    "\n",
    "print(dict1.get('a','Value is not available'))   #user defined error message\n",
    "\n",
    "print(dict1.get('h','Value is not available'))   #user defined error message"
   ]
  },
  {
   "cell_type": "markdown",
   "metadata": {},
   "source": [
    "### Item Function"
   ]
  },
  {
   "cell_type": "code",
   "execution_count": null,
   "metadata": {},
   "outputs": [],
   "source": [
    "# it returns list of tuples from values of dictionary\n",
    "\n",
    "dict1.items()"
   ]
  },
  {
   "cell_type": "markdown",
   "metadata": {},
   "source": [
    "### Key Function"
   ]
  },
  {
   "cell_type": "code",
   "execution_count": null,
   "metadata": {},
   "outputs": [],
   "source": [
    "print(dict1)\n",
    "d1.keys()"
   ]
  },
  {
   "cell_type": "markdown",
   "metadata": {},
   "source": [
    "### Value Function"
   ]
  },
  {
   "cell_type": "code",
   "execution_count": null,
   "metadata": {},
   "outputs": [],
   "source": [
    "print(dict1)\n",
    "dict1.values()"
   ]
  },
  {
   "cell_type": "markdown",
   "metadata": {},
   "source": [
    "### Pop Function"
   ]
  },
  {
   "cell_type": "code",
   "execution_count": null,
   "metadata": {},
   "outputs": [],
   "source": [
    "print(dict1)\n",
    "\n",
    "dict1.pop('a')  # will remove 'a'\n",
    "\n",
    "print(dict1)"
   ]
  },
  {
   "cell_type": "markdown",
   "metadata": {},
   "source": [
    "###  Popitem Function"
   ]
  },
  {
   "cell_type": "code",
   "execution_count": null,
   "metadata": {},
   "outputs": [],
   "source": [
    "print(dict1)\n",
    "\n",
    "print(dict1.popitem())\n",
    "\n",
    "print(dict1)\n"
   ]
  },
  {
   "cell_type": "markdown",
   "metadata": {},
   "source": [
    "### Setdefault Function"
   ]
  },
  {
   "cell_type": "code",
   "execution_count": null,
   "metadata": {},
   "outputs": [],
   "source": [
    "print(dict1)\n",
    "print(dict1.setdefault('abc1','xyz'))\n",
    "print(dict1)"
   ]
  },
  {
   "cell_type": "code",
   "execution_count": null,
   "metadata": {},
   "outputs": [],
   "source": [
    "dict1['abc1']='Pakistan'\n",
    "print(dict1)"
   ]
  },
  {
   "cell_type": "markdown",
   "metadata": {},
   "source": [
    "### Update Function"
   ]
  },
  {
   "cell_type": "code",
   "execution_count": null,
   "metadata": {},
   "outputs": [],
   "source": [
    "dict2 = {'a':'AA','b':'BB'}\n",
    "\n",
    "dict3 = {'a':'AAAA','c':'CCCC'}\n",
    "\n",
    "dict2.update(dict3)\n",
    "\n",
    "dict2"
   ]
  },
  {
   "cell_type": "code",
   "execution_count": null,
   "metadata": {},
   "outputs": [],
   "source": [
    "dict4={'a':1, 'b':2, 'c':3, 'd':4, 'e':5, 'f':6}\n",
    "\n",
    "for i,j in sorted(dict4.items(),reverse=True):\n",
    "    print(i,j)\n",
    "#     print(j,i)"
   ]
  },
  {
   "cell_type": "code",
   "execution_count": null,
   "metadata": {},
   "outputs": [],
   "source": [
    "dict4={'a':1, 'b':2, 'c':8, 'd':4, 'e':5, 'f':6}\n",
    "\n",
    "for i,j in sorted(dict4.values(),reverse=True):\n",
    "    print(j,i)\n"
   ]
  },
  {
   "cell_type": "code",
   "execution_count": null,
   "metadata": {},
   "outputs": [],
   "source": [
    "k:v for k,v in sorted(d1.items(), key=lambda item: items1)"
   ]
  },
  {
   "cell_type": "code",
   "execution_count": null,
   "metadata": {},
   "outputs": [],
   "source": [
    "l5=[('A',0,'z'),\n",
    "('C',1,'y'),\n",
    "('B',3,'x')]"
   ]
  },
  {
   "cell_type": "code",
   "execution_count": null,
   "metadata": {},
   "outputs": [],
   "source": [
    "def abc(x):\n",
    "    return x[1])\n",
    "    \n",
    "sorted(l5, key=abc)"
   ]
  },
  {
   "cell_type": "code",
   "execution_count": null,
   "metadata": {},
   "outputs": [],
   "source": [
    "list5 = []\n",
    "\n",
    "x = ''\n",
    "\n",
    "while x != 'x':\n",
    "    stdData = {}\n",
    "    stdData['user_id']=input('Please enter your id: ')\n",
    "    stdData['name']=input('Please enter your name: ')\n",
    "    stdData['skills']=input('Please enter your skills: ').split(',')    \n",
    "    list5.append(stdData)\n",
    "    x=input(\"Please enter x to exit: \")\n",
    "\n",
    "list5"
   ]
  },
  {
   "cell_type": "code",
   "execution_count": null,
   "metadata": {},
   "outputs": [],
   "source": []
  },
  {
   "cell_type": "code",
   "execution_count": null,
   "metadata": {},
   "outputs": [],
   "source": []
  }
 ],
 "metadata": {
  "kernelspec": {
   "display_name": "Python 3",
   "language": "python",
   "name": "python3"
  },
  "language_info": {
   "codemirror_mode": {
    "name": "ipython",
    "version": 3
   },
   "file_extension": ".py",
   "mimetype": "text/x-python",
   "name": "python",
   "nbconvert_exporter": "python",
   "pygments_lexer": "ipython3",
   "version": "3.7.3"
  }
 },
 "nbformat": 4,
 "nbformat_minor": 2
}
